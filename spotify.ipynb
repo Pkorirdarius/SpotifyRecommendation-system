{
 "cells": [
  {
   "cell_type": "markdown",
   "id": "2dfc871b",
   "metadata": {},
   "source": [
    "# Spotify recommendation system "
   ]
  },
  {
   "cell_type": "code",
   "execution_count": 10,
   "id": "724e68a0",
   "metadata": {},
   "outputs": [],
   "source": [
    "import pandas as pd\n",
    "import matplotlib.pyplot as plt\n",
    "import seaborn as sns\n",
    "\n",
    "data = pd.read_csv('./data_folder/data.csv')\n",
    "genre_data = pd.read_csv('./data_folder/data_w_genres.csv')\n",
    "year_data = pd.read_csv('./data_folder/data_by_year.csv')\n",
    "artist_data = pd.read_csv('./data_folder/data_by_artist.csv')"
   ]
  },
  {
   "cell_type": "code",
   "execution_count": 14,
   "id": "1bf5ace6",
   "metadata": {},
   "outputs": [
    {
     "data": {
      "text/plain": [
       "(   valence  year  acousticness  \\\n",
       " 0   0.0594  1921         0.982   \n",
       " 1   0.9630  1921         0.732   \n",
       " \n",
       "                                              artists  danceability  \\\n",
       " 0  ['Sergei Rachmaninoff', 'James Levine', 'Berli...         0.279   \n",
       " 1                                     ['Dennis Day']         0.819   \n",
       " \n",
       "    duration_ms  energy  explicit                      id  instrumentalness  \\\n",
       " 0       831667   0.211         0  4BJqT0PrAfrxzMOxytFOIz             0.878   \n",
       " 1       180533   0.341         0  7xPhfUan2yNtyFG0cUWkt8             0.000   \n",
       " \n",
       "    key  liveness  loudness  mode  \\\n",
       " 0   10     0.665   -20.096     1   \n",
       " 1    7     0.160   -12.441     1   \n",
       " \n",
       "                                                 name  popularity release_date  \\\n",
       " 0  Piano Concerto No. 3 in D Minor, Op. 30: III. ...           4         1921   \n",
       " 1                            Clancy Lowered the Boom           5         1921   \n",
       " \n",
       "    speechiness   tempo  \n",
       " 0       0.0366  80.954  \n",
       " 1       0.4150  60.936  ,\n",
       "            genres                           artists  acousticness  \\\n",
       " 0  ['show tunes']  \"Cats\" 1981 Original London Cast      0.590111   \n",
       " 1              []         \"Cats\" 1983 Broadway Cast      0.862538   \n",
       " \n",
       "    danceability    duration_ms    energy  instrumentalness  liveness  \\\n",
       " 0      0.467222  250318.555556  0.394003          0.011400  0.290833   \n",
       " 1      0.441731  287280.000000  0.406808          0.081158  0.315215   \n",
       " \n",
       "    loudness  speechiness       tempo   valence  popularity  key  mode  count  \n",
       " 0   -14.448     0.210389  117.518111  0.389500   38.333333    5     1      9  \n",
       " 1   -10.690     0.176212  103.044154  0.268865   30.576923    5     1     26  ,\n",
       "    mode  year  acousticness  danceability    duration_ms    energy  \\\n",
       " 0     1  1921      0.886896      0.418597  260537.166667  0.231815   \n",
       " 1     1  1922      0.938592      0.482042  165469.746479  0.237815   \n",
       " \n",
       "    instrumentalness  liveness   loudness  speechiness       tempo   valence  \\\n",
       " 0          0.344878   0.20571 -17.048667     0.073662  101.531493  0.379327   \n",
       " 1          0.434195   0.24072 -19.275282     0.116655  100.884521  0.535549   \n",
       " \n",
       "    popularity  key  \n",
       " 0    0.653333    2  \n",
       " 1    0.140845   10  ,\n",
       "    mode  count  acousticness                           artists  danceability  \\\n",
       " 0     1      9      0.590111  \"Cats\" 1981 Original London Cast      0.467222   \n",
       " 1     1     26      0.862538         \"Cats\" 1983 Broadway Cast      0.441731   \n",
       " \n",
       "      duration_ms    energy  instrumentalness  liveness  loudness  speechiness  \\\n",
       " 0  250318.555556  0.394003          0.011400  0.290833   -14.448     0.210389   \n",
       " 1  287280.000000  0.406808          0.081158  0.315215   -10.690     0.176212   \n",
       " \n",
       "         tempo   valence  popularity  key  \n",
       " 0  117.518111  0.389500   38.333333    5  \n",
       " 1  103.044154  0.268865   30.576923    5  )"
      ]
     },
     "execution_count": 14,
     "metadata": {},
     "output_type": "execute_result"
    }
   ],
   "source": [
    "data.head(2),genre_data.head(2),year_data.head(2),artist_data.head(2)"
   ]
  },
  {
   "cell_type": "code",
   "execution_count": 13,
   "id": "345cd3bb",
   "metadata": {},
   "outputs": [
    {
     "name": "stdout",
     "output_type": "stream",
     "text": [
      "<class 'pandas.core.frame.DataFrame'>\n",
      "RangeIndex: 170653 entries, 0 to 170652\n",
      "Data columns (total 19 columns):\n",
      " #   Column            Non-Null Count   Dtype  \n",
      "---  ------            --------------   -----  \n",
      " 0   valence           170653 non-null  float64\n",
      " 1   year              170653 non-null  int64  \n",
      " 2   acousticness      170653 non-null  float64\n",
      " 3   artists           170653 non-null  object \n",
      " 4   danceability      170653 non-null  float64\n",
      " 5   duration_ms       170653 non-null  int64  \n",
      " 6   energy            170653 non-null  float64\n",
      " 7   explicit          170653 non-null  int64  \n",
      " 8   id                170653 non-null  object \n",
      " 9   instrumentalness  170653 non-null  float64\n",
      " 10  key               170653 non-null  int64  \n",
      " 11  liveness          170653 non-null  float64\n",
      " 12  loudness          170653 non-null  float64\n",
      " 13  mode              170653 non-null  int64  \n",
      " 14  name              170653 non-null  object \n",
      " 15  popularity        170653 non-null  int64  \n",
      " 16  release_date      170653 non-null  object \n",
      " 17  speechiness       170653 non-null  float64\n",
      " 18  tempo             170653 non-null  float64\n",
      "dtypes: float64(9), int64(6), object(4)\n",
      "memory usage: 24.7+ MB\n",
      "<class 'pandas.core.frame.DataFrame'>\n",
      "RangeIndex: 28680 entries, 0 to 28679\n",
      "Data columns (total 16 columns):\n",
      " #   Column            Non-Null Count  Dtype  \n",
      "---  ------            --------------  -----  \n",
      " 0   genres            28680 non-null  object \n",
      " 1   artists           28680 non-null  object \n",
      " 2   acousticness      28680 non-null  float64\n",
      " 3   danceability      28680 non-null  float64\n",
      " 4   duration_ms       28680 non-null  float64\n",
      " 5   energy            28680 non-null  float64\n",
      " 6   instrumentalness  28680 non-null  float64\n",
      " 7   liveness          28680 non-null  float64\n",
      " 8   loudness          28680 non-null  float64\n",
      " 9   speechiness       28680 non-null  float64\n",
      " 10  tempo             28680 non-null  float64\n",
      " 11  valence           28680 non-null  float64\n",
      " 12  popularity        28680 non-null  float64\n",
      " 13  key               28680 non-null  int64  \n",
      " 14  mode              28680 non-null  int64  \n",
      " 15  count             28680 non-null  int64  \n",
      "dtypes: float64(11), int64(3), object(2)\n",
      "memory usage: 3.5+ MB\n"
     ]
    },
    {
     "data": {
      "text/plain": [
       "(None, None)"
      ]
     },
     "execution_count": 13,
     "metadata": {},
     "output_type": "execute_result"
    }
   ],
   "source": [
    "data.info(),genre_data.info()"
   ]
  },
  {
   "cell_type": "code",
   "execution_count": 15,
   "id": "ce7cf3ef",
   "metadata": {},
   "outputs": [],
   "source": [
    "# create a decade column using apply and lambda\n",
    "data[\"decade\"]= data[\"year\"].apply(lambda x: str(x)[:3]+'0s')"
   ]
  },
  {
   "cell_type": "code",
   "execution_count": null,
   "id": "72eea9b0",
   "metadata": {},
   "outputs": [],
   "source": []
  }
 ],
 "metadata": {
  "kernelspec": {
   "display_name": "Python 3",
   "language": "python",
   "name": "python3"
  },
  "language_info": {
   "codemirror_mode": {
    "name": "ipython",
    "version": 3
   },
   "file_extension": ".py",
   "mimetype": "text/x-python",
   "name": "python",
   "nbconvert_exporter": "python",
   "pygments_lexer": "ipython3",
   "version": "3.13.2"
  }
 },
 "nbformat": 4,
 "nbformat_minor": 5
}
