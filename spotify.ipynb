{
 "cells": [
  {
   "cell_type": "markdown",
   "id": "2dfc871b",
   "metadata": {},
   "source": [
    "# Spotify recommendation system "
   ]
  },
  {
   "cell_type": "code",
   "execution_count": 1,
   "id": "c7e17646",
   "metadata": {},
   "outputs": [],
   "source": [
    "import spotipy\n",
    "from spotipy.oauth2 import SpotifyOAuth\n",
    "import pandas as pd\n",
    "\n",
    "# Set your credentials\n",
    "sp = spotipy.Spotify(auth_manager=SpotifyOAuth(\n",
    "    client_id=\"260e2fd648cf42dbab5157bb9857e07e\",\n",
    "    client_secret=\"aabb18f4c93440f7b115cfe963189e9f\",\n",
    "    redirect_uri=\"http://127.0.0.1:8888/callback\",\n",
    "    scope=\"user-library-read\"\n",
    "))\n",
    "# Get saved tracks\n",
    "results = sp.current_user_saved_tracks(limit=50)\n",
    "tracks = []"
   ]
  },
  {
   "cell_type": "code",
   "execution_count": 2,
   "id": "12b6997f",
   "metadata": {},
   "outputs": [],
   "source": [
    "while results:\n",
    "    for item in results['items']:\n",
    "        track = item['track']\n",
    "        tracks.append({\n",
    "            'track_name': track['name'],\n",
    "            'artist': track['artists'][0]['name'],\n",
    "            'album': track['album']['name'],\n",
    "            'release_date': track['album']['release_date']\n",
    "        })\n",
    "    # Pagination\n",
    "    if results['next']:\n",
    "        results = sp.next(results)\n",
    "    else:\n",
    "        results = None\n",
    "\n",
    "# Convert to DataFrame and save to CSV\n",
    "df = pd.DataFrame(tracks)\n",
    "df.to_csv('spotify_user_tracks.csv', index=False)"
   ]
  },
  {
   "cell_type": "code",
   "execution_count": 3,
   "id": "13b61899",
   "metadata": {},
   "outputs": [
    {
     "data": {
      "text/html": [
       "<div>\n",
       "<style scoped>\n",
       "    .dataframe tbody tr th:only-of-type {\n",
       "        vertical-align: middle;\n",
       "    }\n",
       "\n",
       "    .dataframe tbody tr th {\n",
       "        vertical-align: top;\n",
       "    }\n",
       "\n",
       "    .dataframe thead th {\n",
       "        text-align: right;\n",
       "    }\n",
       "</style>\n",
       "<table border=\"1\" class=\"dataframe\">\n",
       "  <thead>\n",
       "    <tr style=\"text-align: right;\">\n",
       "      <th></th>\n",
       "      <th>track_name</th>\n",
       "      <th>artist</th>\n",
       "      <th>album</th>\n",
       "      <th>release_date</th>\n",
       "    </tr>\n",
       "  </thead>\n",
       "  <tbody>\n",
       "    <tr>\n",
       "      <th>0</th>\n",
       "      <td>Glue Song</td>\n",
       "      <td>beabadoobee</td>\n",
       "      <td>Glue Song</td>\n",
       "      <td>2023-02-14</td>\n",
       "    </tr>\n",
       "    <tr>\n",
       "      <th>1</th>\n",
       "      <td>At My Worst (feat. Kehlani)</td>\n",
       "      <td>Pink Sweat$</td>\n",
       "      <td>PINK PLANET</td>\n",
       "      <td>2021-02-12</td>\n",
       "    </tr>\n",
       "    <tr>\n",
       "      <th>2</th>\n",
       "      <td>when the party's over</td>\n",
       "      <td>Billie Eilish</td>\n",
       "      <td>when the party's over</td>\n",
       "      <td>2018-10-17</td>\n",
       "    </tr>\n",
       "    <tr>\n",
       "      <th>3</th>\n",
       "      <td>Eyes Off You</td>\n",
       "      <td>PRETTYMUCH</td>\n",
       "      <td>Phases - EP</td>\n",
       "      <td>2019-05-24</td>\n",
       "    </tr>\n",
       "    <tr>\n",
       "      <th>4</th>\n",
       "      <td>blue</td>\n",
       "      <td>yung kai</td>\n",
       "      <td>blue</td>\n",
       "      <td>2024-08-02</td>\n",
       "    </tr>\n",
       "  </tbody>\n",
       "</table>\n",
       "</div>"
      ],
      "text/plain": [
       "                    track_name         artist                  album  \\\n",
       "0                    Glue Song    beabadoobee              Glue Song   \n",
       "1  At My Worst (feat. Kehlani)    Pink Sweat$            PINK PLANET   \n",
       "2        when the party's over  Billie Eilish  when the party's over   \n",
       "3                 Eyes Off You     PRETTYMUCH            Phases - EP   \n",
       "4                         blue       yung kai                   blue   \n",
       "\n",
       "  release_date  \n",
       "0   2023-02-14  \n",
       "1   2021-02-12  \n",
       "2   2018-10-17  \n",
       "3   2019-05-24  \n",
       "4   2024-08-02  "
      ]
     },
     "execution_count": 3,
     "metadata": {},
     "output_type": "execute_result"
    }
   ],
   "source": [
    "df.head()"
   ]
  },
  {
   "cell_type": "code",
   "execution_count": null,
   "id": "0780a21e",
   "metadata": {},
   "outputs": [],
   "source": []
  }
 ],
 "metadata": {
  "kernelspec": {
   "display_name": "Python 3",
   "language": "python",
   "name": "python3"
  },
  "language_info": {
   "codemirror_mode": {
    "name": "ipython",
    "version": 3
   },
   "file_extension": ".py",
   "mimetype": "text/x-python",
   "name": "python",
   "nbconvert_exporter": "python",
   "pygments_lexer": "ipython3",
   "version": "3.13.2"
  }
 },
 "nbformat": 4,
 "nbformat_minor": 5
}
