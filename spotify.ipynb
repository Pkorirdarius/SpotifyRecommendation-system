{
 "cells": [
  {
   "cell_type": "markdown",
   "id": "2dfc871b",
   "metadata": {},
   "source": [
    "# Spotify recommendation system "
   ]
  },
  {
   "cell_type": "code",
   "execution_count": 10,
   "id": "724e68a0",
   "metadata": {},
   "outputs": [],
   "source": [
    "import pandas as pd\n",
    "import matplotlib.pyplot as plt\n",
    "import seaborn as sns\n",
    "import plotly.express as px\n",
    "from wordcloud import WordCloud, STOPWORDS\n",
    "\n",
    "data = pd.read_csv('./data_folder/data.csv')\n",
    "genre_data = pd.read_csv('./data_folder/data_w_genres.csv')\n",
    "year_data = pd.read_csv('./data_folder/data_by_year.csv')\n",
    "artist_data = pd.read_csv('./data_folder/data_by_artist.csv')"
   ]
  },
  {
   "cell_type": "code",
   "execution_count": 2,
   "id": "1bf5ace6",
   "metadata": {},
   "outputs": [
    {
     "data": {
      "text/plain": [
       "(   valence  year  acousticness  \\\n",
       " 0   0.0594  1921         0.982   \n",
       " 1   0.9630  1921         0.732   \n",
       " \n",
       "                                              artists  danceability  \\\n",
       " 0  ['Sergei Rachmaninoff', 'James Levine', 'Berli...         0.279   \n",
       " 1                                     ['Dennis Day']         0.819   \n",
       " \n",
       "    duration_ms  energy  explicit                      id  instrumentalness  \\\n",
       " 0       831667   0.211         0  4BJqT0PrAfrxzMOxytFOIz             0.878   \n",
       " 1       180533   0.341         0  7xPhfUan2yNtyFG0cUWkt8             0.000   \n",
       " \n",
       "    key  liveness  loudness  mode  \\\n",
       " 0   10     0.665   -20.096     1   \n",
       " 1    7     0.160   -12.441     1   \n",
       " \n",
       "                                                 name  popularity release_date  \\\n",
       " 0  Piano Concerto No. 3 in D Minor, Op. 30: III. ...           4         1921   \n",
       " 1                            Clancy Lowered the Boom           5         1921   \n",
       " \n",
       "    speechiness   tempo  \n",
       " 0       0.0366  80.954  \n",
       " 1       0.4150  60.936  ,\n",
       "            genres                           artists  acousticness  \\\n",
       " 0  ['show tunes']  \"Cats\" 1981 Original London Cast      0.590111   \n",
       " 1              []         \"Cats\" 1983 Broadway Cast      0.862538   \n",
       " \n",
       "    danceability    duration_ms    energy  instrumentalness  liveness  \\\n",
       " 0      0.467222  250318.555556  0.394003          0.011400  0.290833   \n",
       " 1      0.441731  287280.000000  0.406808          0.081158  0.315215   \n",
       " \n",
       "    loudness  speechiness       tempo   valence  popularity  key  mode  count  \n",
       " 0   -14.448     0.210389  117.518111  0.389500   38.333333    5     1      9  \n",
       " 1   -10.690     0.176212  103.044154  0.268865   30.576923    5     1     26  ,\n",
       "    mode  year  acousticness  danceability    duration_ms    energy  \\\n",
       " 0     1  1921      0.886896      0.418597  260537.166667  0.231815   \n",
       " 1     1  1922      0.938592      0.482042  165469.746479  0.237815   \n",
       " \n",
       "    instrumentalness  liveness   loudness  speechiness       tempo   valence  \\\n",
       " 0          0.344878   0.20571 -17.048667     0.073662  101.531493  0.379327   \n",
       " 1          0.434195   0.24072 -19.275282     0.116655  100.884521  0.535549   \n",
       " \n",
       "    popularity  key  \n",
       " 0    0.653333    2  \n",
       " 1    0.140845   10  ,\n",
       "    mode  count  acousticness                           artists  danceability  \\\n",
       " 0     1      9      0.590111  \"Cats\" 1981 Original London Cast      0.467222   \n",
       " 1     1     26      0.862538         \"Cats\" 1983 Broadway Cast      0.441731   \n",
       " \n",
       "      duration_ms    energy  instrumentalness  liveness  loudness  speechiness  \\\n",
       " 0  250318.555556  0.394003          0.011400  0.290833   -14.448     0.210389   \n",
       " 1  287280.000000  0.406808          0.081158  0.315215   -10.690     0.176212   \n",
       " \n",
       "         tempo   valence  popularity  key  \n",
       " 0  117.518111  0.389500   38.333333    5  \n",
       " 1  103.044154  0.268865   30.576923    5  )"
      ]
     },
     "execution_count": 2,
     "metadata": {},
     "output_type": "execute_result"
    }
   ],
   "source": [
    "data.head(2),genre_data.head(2),year_data.head(2),artist_data.head(2)"
   ]
  },
  {
   "cell_type": "code",
   "execution_count": 3,
   "id": "345cd3bb",
   "metadata": {},
   "outputs": [
    {
     "name": "stdout",
     "output_type": "stream",
     "text": [
      "<class 'pandas.core.frame.DataFrame'>\n",
      "RangeIndex: 170653 entries, 0 to 170652\n",
      "Data columns (total 19 columns):\n",
      " #   Column            Non-Null Count   Dtype  \n",
      "---  ------            --------------   -----  \n",
      " 0   valence           170653 non-null  float64\n",
      " 1   year              170653 non-null  int64  \n",
      " 2   acousticness      170653 non-null  float64\n",
      " 3   artists           170653 non-null  object \n",
      " 4   danceability      170653 non-null  float64\n",
      " 5   duration_ms       170653 non-null  int64  \n",
      " 6   energy            170653 non-null  float64\n",
      " 7   explicit          170653 non-null  int64  \n",
      " 8   id                170653 non-null  object \n",
      " 9   instrumentalness  170653 non-null  float64\n",
      " 10  key               170653 non-null  int64  \n",
      " 11  liveness          170653 non-null  float64\n",
      " 12  loudness          170653 non-null  float64\n",
      " 13  mode              170653 non-null  int64  \n",
      " 14  name              170653 non-null  object \n",
      " 15  popularity        170653 non-null  int64  \n",
      " 16  release_date      170653 non-null  object \n",
      " 17  speechiness       170653 non-null  float64\n",
      " 18  tempo             170653 non-null  float64\n",
      "dtypes: float64(9), int64(6), object(4)\n",
      "memory usage: 24.7+ MB\n",
      "<class 'pandas.core.frame.DataFrame'>\n",
      "RangeIndex: 28680 entries, 0 to 28679\n",
      "Data columns (total 16 columns):\n",
      " #   Column            Non-Null Count  Dtype  \n",
      "---  ------            --------------  -----  \n",
      " 0   genres            28680 non-null  object \n",
      " 1   artists           28680 non-null  object \n",
      " 2   acousticness      28680 non-null  float64\n",
      " 3   danceability      28680 non-null  float64\n",
      " 4   duration_ms       28680 non-null  float64\n",
      " 5   energy            28680 non-null  float64\n",
      " 6   instrumentalness  28680 non-null  float64\n",
      " 7   liveness          28680 non-null  float64\n",
      " 8   loudness          28680 non-null  float64\n",
      " 9   speechiness       28680 non-null  float64\n",
      " 10  tempo             28680 non-null  float64\n",
      " 11  valence           28680 non-null  float64\n",
      " 12  popularity        28680 non-null  float64\n",
      " 13  key               28680 non-null  int64  \n",
      " 14  mode              28680 non-null  int64  \n",
      " 15  count             28680 non-null  int64  \n",
      "dtypes: float64(11), int64(3), object(2)\n",
      "memory usage: 3.5+ MB\n"
     ]
    },
    {
     "data": {
      "text/plain": [
       "(None, None)"
      ]
     },
     "execution_count": 3,
     "metadata": {},
     "output_type": "execute_result"
    }
   ],
   "source": [
    "data.info(),genre_data.info()"
   ]
  },
  {
   "cell_type": "code",
   "execution_count": 4,
   "id": "ce7cf3ef",
   "metadata": {},
   "outputs": [],
   "source": [
    "# create a decade column using apply and lambda\n",
    "data[\"decade\"]= data[\"year\"].apply(lambda x: str(x)[:3]+'0s')"
   ]
  },
  {
   "cell_type": "code",
   "execution_count": 5,
   "id": "72eea9b0",
   "metadata": {},
   "outputs": [
    {
     "name": "stderr",
     "output_type": "stream",
     "text": [
      "C:\\Users\\ISAIAH\\AppData\\Local\\Temp\\ipykernel_5056\\2293936907.py:3: FutureWarning: \n",
      "\n",
      "Passing `palette` without assigning `hue` is deprecated and will be removed in v0.14.0. Assign the `x` variable to `hue` and set `legend=False` for the same effect.\n",
      "\n",
      "  sns.countplot(x='decade', data=data, palette='viridis')\n"
     ]
    },
    {
     "data": {
      "image/png": "[encoded data removed]",
      "text/plain": [
       "<Figure size 1000x600 with 1 Axes>"
      ]
     },
     "metadata": {},
     "output_type": "display_data"
    }
   ],
   "source": [
    "# Plot the distribution\n",
    "plt.figure(figsize=(10, 6))\n",
    "sns.countplot(x='decade', data=data, palette='viridis')\n",
    "\n",
    "# Add labels and title\n",
    "plt.title('Distribution of Tracks Across Decades')\n",
    "plt.xlabel('Decade')\n",
    "plt.ylabel('Number of Tracks')\n",
    "plt.xticks(rotation=45)\n",
    "plt.tight_layout()\n",
    "plt.show()"
   ]
  },
  {
   "cell_type": "code",
   "execution_count": 20,
   "id": "862d2066",
   "metadata": {},
   "outputs": [
    {
     "data": {
      "application/vnd.plotly.v1+json": {
       "config": {
        "plotlyServerURL": "https://plot.ly"
       },
       "data": [
        {
         "hovertemplate": "Sound Feature=acousticness<br>year=%{x}<br>Feature Value=%{y}<extra></extra>",
         "legendgroup": "acousticness",
         "line": {
          "color": "#636efa",
          "dash": "solid"
         },
         "marker": {
          "symbol": "circle"
         },
         "mode": "lines",
         "name": "acousticness",
         "orientation": "v",
         "showlegend": true,
         "type": "scatter",
         "x": {
          "bdata": "gQeCB4MHhAeFB4YHhweIB4kHigeLB4wHjQeOB48HkAeRB5IHkweUB5UHlgeXB5gHmQeaB5sHnAedB54HnwegB6EHogejB6QHpQemB6cHqAepB6oHqwesB60HrgevB7AHsQeyB7MHtAe1B7YHtwe4B7kHuge7B7wHvQe+B78HwAfBB8IHwwfEB8UHxgfHB8gHyQfKB8sHzAfNB84HzwfQB9EH0gfTB9QH1QfWB9cH2AfZB9oH2wfcB90H3gffB+AH4QfiB+MH5Ac=",
          "dtype": "i2"
         },
         "xaxis": "x",
         "y": {
          "bdata": "w4BeuHNh7D/Y3xAl8QjuP3zC4QXEoe4/QjdkBB4W7j83NQZNrc3uP6cq8iVqJeU/30v0nS717T/2A0p6JQnuP6mOzPfiPuM/DLu1mpH57T/VQk1qQ6jqP+oDYgPV8e0/Q7Yss/bL7D/MqDtiSoTsP5vfdNWI6Og/0fu80se26D959mBjprHrPw7D07W+au0/PSKE7GEU7T9YxCxq5h/rP2F2bATiqew/WgdPBT1L6z8BpZfUWOPsP6fRsbR+C+0/S/E+T4K15j8Xs+yeL3DtPx0AIJMzP+0/uPjaM0uC7T+/NgJtggrtP2r72LR8U+s/KNtSXp7f7D+x4bLuRfrrPyYOtJZvguw/Kb/k2T2u6z9i6rU5y+XqP/5p2Zx7Vuo/q5F/DaNe6T9H9PeUlPLoP0371SXJ8Og/hKEoL8CM6D+GVpOzmA/oP9YhdBo4D+c/F1ww4WUg5z9XSPlQEjbmP3p7usNkhOM/dHtmNT3L4D/97dZZkfLgP9Okgn7umd8/9xEn2eW53D8ERq1kk3HdP4MwusRhVd0/rAXGYFdx3T/q3W8SVajaP+IbpuELn9w/3x/XjPPC2z8KH9i3VSLXP7TqEvkht9U/EkoYNNIN1T9gn9XHjfDSP/WMapC1PNI/NPrQF+5G0z/SjWq2eojSP6SeCBek3dI/bviUcdVp0j81246GBPvSP1hTBPDCPtI/QEcg103y0z/4l1Cbz5vUP5IwrWjyDdQ/h1vlw71N1T9nEzPLBkzVPx6COXshiNQ/sEKieMfH0z8TgpgDWJnTP2YdfHpaXNM/p079PgZE0z+sySPcOqHTP1yYJGrDp9I/KIs8fbth0T+gUi1cQ4TSP5ZzI4qgW9I/lh+HMIQW0j88O/xRA2rQP4oHFoOt9NE/qipg5m1e0D+ysVHgS+vRP4S6zsbcQtA/av6oA4Tlzz9MGTpBcMPQPyRznR5bEM8/6n9WItN70T8cKpMbdv7PP8C7Ek+vetA/mH5EDnrpzz+aF2f4wEDQP5BICLDbL9I/6FOJdXJP0j/4aq0f5iDRP4Gstd+kz9E/eAHfAbImzD8=",
          "dtype": "f8"
         },
         "yaxis": "y"
        },
        {
         "hovertemplate": "Sound Feature=danceability<br>year=%{x}<br>Feature Value=%{y}<extra></extra>",
         "legendgroup": "danceability",
         "line": {
          "color": "#EF553B",
          "dash": "solid"
         },
         "marker": {
          "symbol": "circle"
         },
         "mode": "lines",
         "name": "danceability",
         "orientation": "v",
         "showlegend": true,
         "type": "scatter",
         "x": {
          "bdata": "gQeCB4MHhAeFB4YHhweIB4kHigeLB4wHjQeOB48HkAeRB5IHkweUB5UHlgeXB5gHmQeaB5sHnAedB54HnwegB6EHogejB6QHpQemB6cHqAepB6oHqwesB60HrgevB7AHsQeyB7MHtAe1B7YHtwe4B7kHuge7B7wHvQe+B78HwAfBB8IHwwfEB8UHxgfHB8gHyQfKB8sHzAfNB84HzwfQB9EH0gfTB9QH1QfWB9cH2AfZB9oH2wfcB90H3gffB+AH4QfiB+MH5Ac=",
          "dtype": "i2"
         },
         "xaxis": "x",
         "y": {
          "bdata": "sgE3eEzK2j/RdIrAx9neP8LZiN6SeeI/WG2ucbuY4T+AY0GWFl3iP+x18hY4MuM/7GuDJZ2+5D+E/E3e4hjhP3GZnyC2ueQ/Lhkxl+WU4D/y3u11DgzjP71ZW1962eE/V0KQc9E/4j8dFD2ZKOvgP4m3OiSuyeE/YdgWci7b4T+id20eWlnhP1FerYz1t94/PRhnwuVn4D/xCumVV7PgP87znt00wN4/jXKjxo+83T8oawYnGyHdPwYI1+JtAeA/XShmGNKc4D+qPrReRIbaP+KViuseKt4/DA/cb9in3T985FO2/kzcPwoDrWXXIuA/dUAjIkaZ3T/6Ag78A0DdP2cwK9bJ/ts/1LTPGQfN3T8kEAqlij3fPyDvAE9aON8/sreJq4Qc4D8WVJitq7jeP6E3Hvj12t4/bkcoZhob3z86GvokfU7fP0XwekgBkN8/LYvTWuLS3j+pkwjANyLgP/kkf1tEHOA/lNk8DoM54D/qlOe9NYjfP77+kCNCCOA/mvgPjv483z9SBkfJqzPgP9pLv+kCI+A/0HzfCQes4D/Tt0/Yj37gP6mFksmpfeA/UgFp/wOs4D/ctYR80PPgP6zQNd38EOE/Tz2wiAZO4T8228tsRvzhP4drLAgAzOE/v4dcupNZ4T8cva66aQ7iP++o55PLdeE/wtWgeUr44D+rqwiS0sfhPwANyo9TT+E/3HPlxgdQ4T+tzz+WcUvhP6smJyTjguE/dPlqoioh4T9hroMqUMnhP68XPVwXw+E/OI8eGnE84j9y+m9vyLDhPyj4pumz4+E/X9FSHoLP4j+1J7RRQnXiPyUYKe8+wuI/LPvopAmh4j8RLdT2zOjiP+lt/jSKquI/EB24uedv4j+DkDUrp2ziP12u8ANwKuI/VJ9eVB9Q4j9V2esA8S7iP56IvIx9B+I/rGmha7+I4j9StZTv2A3iP5y+8xLTUeI/q7sfGBax4T+u0e8DqkTiP8FwxjnYRuI/hhxs9dng4j9LVaB2MgDjP1RoDKbbNOM/lprVJEiX4z8gbmZZZTvlP4rgMjNRouQ/HDo/tkUs5j8=",
          "dtype": "f8"
         },
         "yaxis": "y"
        },
        {
         "hovertemplate": "Sound Feature=energy<br>year=%{x}<br>Feature Value=%{y}<extra></extra>",
         "legendgroup": "energy",
         "line": {
          "color": "#00cc96",
          "dash": "solid"
         },
         "marker": {
          "symbol": "circle"
         },
         "mode": "lines",
         "name": "energy",
         "orientation": "v",
         "showlegend": true,
         "type": "scatter",
         "x": {
          "bdata": "gQeCB4MHhAeFB4YHhweIB4kHigeLB4wHjQeOB48HkAeRB5IHkweUB5UHlgeXB5gHmQeaB5sHnAedB54HnwegB6EHogejB6QHpQemB6cHqAepB6oHqwesB60HrgevB7AHsQeyB7MHtAe1B7YHtwe4B7kHuge7B7wHvQe+B78HwAfBB8IHwwfEB8UHxgfHB8gHyQfKB8sHzAfNB84HzwfQB9EH0gfTB9QH1QfWB9cH2AfZB9oH2wfcB90H3gffB+AH4QfiB+MH5Ac=",
          "dtype": "i2"
         },
         "xaxis": "x",
         "y": {
          "bdata": "zjgxSB6szT/0w+fDu3DOPzfvbZNEy9A/uKZKXcYJ1j/jluHvedTRPypzZIdaEcs/8DGo46Pq0D+UmkKKCJ7KP5FVHpVT884/WzEMtXRY1T9iNieC/QPOP2HYZeITVdM/r7j6Qt/p0T9/YypswsbQPx91+vzziM8/IkLSk6O80z8vgO0bN+jTP4rr77yY+9E/kLgANEoX0j9ZXCVQq+XTP3o+3VNMANE/3oYjJptj0D9cz6taW+vRPwykOnxiONA/LQoC/gXvzD+rWblnJHDMP2CUNNoF3tA/QB1ggRYJzz96Dj8Hr4DPPz8AyRG+GdQ/PezoLHFM0D+qW5eWaDvQP+j4nG5eCdE/dOtWSxHr0D/3CF7C2+LSP16C38g0gdM/m+c2c9rl0j+nlzdFT8PTP3Pv0BNV59M/8Yua10bV1T/pBJPe47rVP7Zu3pPivtc/qqjiQvVh1z+TpxlYfD7ZP/WYT8bcvNw/C+HB5IDc3j+fwUn8wpjcP6/ugKH9Pt0/HLKDCEA13z9sRSSvc7jfP0R/Tv9hxN8/B21iFhQl4D8yTzxnCyjhP6F7Fr6deOA/h9k+wx++4D8CiLt6FbnhP0jshwPh7eE/p5LGqjn34T/PPk5/k+niP/BlKA/+IOM/DzI1riQu4z9uMY/Hz+jiP0UNaiLgPuM/AAOiFjnq4j9uaFRknT/jP9fK8ES1reM/ZUkWrguO4j+KpwVn4r3iP4sd/wWCsOI/kmaGCXpK4j/fBGTJn+bhP0J9T9XSpuI/2bPvo30A4j9klDxLToXiPyC+Mi25g+I/YO6qrBLB4j8GYDA1iijjP9EQcyjHXeM/SbXkzJVm5D/XwqjFYQPkP26CHPFDEOQ/b3E3PEiF5D/z1L7lEiDlP0Jqb7WGw+Q/s5stiRXn5D8IdyQQec/kPws9tLHAYuU/5LM3Z5t85T8O398XxnblP+PDra4f0eU/rLDkg+G+5D+LLpsmogLlP4FN5c+6qOQ/oPibqe7C5D8EwFYX6RDkP86i4Iir+OI/TBryn7rk4j+wM/H4JEfjP5bQPPmw++I/WSPRrwwz5D8=",
          "dtype": "f8"
         },
         "yaxis": "y"
        },
        {
         "hovertemplate": "Sound Feature=instrumentalness<br>year=%{x}<br>Feature Value=%{y}<extra></extra>",
         "legendgroup": "instrumentalness",
         "line": {
          "color": "#ab63fa",
          "dash": "solid"
         },
         "marker": {
          "symbol": "circle"
         },
         "mode": "lines",
         "name": "instrumentalness",
         "orientation": "v",
         "showlegend": true,
         "type": "scatter",
         "x": {
          "bdata": "gQeCB4MHhAeFB4YHhweIB4kHigeLB4wHjQeOB48HkAeRB5IHkweUB5UHlgeXB5gHmQeaB5sHnAedB54HnwegB6EHogejB6QHpQemB6cHqAepB6oHqwesB60HrgevB7AHsQeyB7MHtAe1B7YHtwe4B7kHuge7B7wHvQe+B78HwAfBB8IHwwfEB8UHxgfHB8gHyQfKB8sHzAfNB84HzwfQB9EH0gfTB9QH1QfWB9cH2AfZB9oH2wfcB90H3gffB+AH4QfiB+MH5Ac=",
          "dtype": "i2"
         },
         "xaxis": "x",
         "y": {
          "bdata": "zS38a3sS1j/m/WFH2cnbP8cENg54ytc/afIEPEud4j+2Lp1LYsXaP+d1scRlUdU/yY/sr4YL2T88FgVvYqvfP4Xgr0HOi8s/VFe7u4qK1j/nyraTelfMP2PZXpxA+cw/CoEIjKOLxz9Wbhs/P7DRP2rPKo5q6cw/AmXFe3100D+lv3jrAO/UPyarwPUbONg/TnYysYzF0T+d0ezEP0fUP4iFyXAWetw/BtCyvvok2T9FyUBOwDvaP1BFcxYzwdw/MCfCYkCo0T+1vcnxsRzfP6pcjnb4PtY/1FSXaUPA1j9PVvxmhg7TP+CSutYvXM8/J4ClIXK90z8dTJRRWnXSPw/uTORkX9Q/k2kF0UEJ0z/17KmVsbnLPxRTbLfMj84/XBxsMg3myD/x/zKg6DLHP73bJXI9Fcg/t9IxbZ+Xxj8JaoBelu/QP5fQvp/H8sU/BAqW/z68xz+HBJRls23EPxozbQs7Tb4/XYoSBuV4vT+enccSTXO+PzX26zzz3rw/N+VpQ/JoxD9APyaVHVTAP9Ay1BCWAMA/TuhzLMxovT83sdSipIS5P0eytFrVyb0/tUxCzpl/vD/bSSO+FCO/P+aJm6spWcA/lgV0UZWyuT+ihEXF4aG9P1hrvi7qesA/f7hF+ZXLwj8NmQx2rJq5P5UsA+HPnMI/MBz2uAeVwj8q8Dlb+B29P/jx/XUVJbw/XXKLgQAbuj/R8XNSMAC+P+F3mf+H+bw/Zg45PRMbwD/hC3YLsXa9P9ayy0XTxrk/rra7wueDvT9FlN+Pi6S8P9PpvDeLjr8/BEoVj2FVuD/jomK9+cy6P4e29CjYf7w/zXh5hdkUuD8Ij2CCIea5PwHfPsFgcrs/R9YRMVaKtj/2HKeet0K1P5ZVLSN887M/HVCSR/oWtz+f/I9gPuSzP6knSdhTrbI/bDfooyhMsD8trSYrWmyzP0yFtOo2PrU/sZfi1NKQuj8E5sBsB9C1PxGPpMFzLrk/o+jl9Q+asz+ODeOEYla7P3sAAV1cD7g/UjawHu7auD/7Uee4WMKrP0MAmjE74LM/CvJi1b7EkD8=",
          "dtype": "f8"
         },
         "yaxis": "y"
        },
        {
         "hovertemplate": "Sound Feature=liveness<br>year=%{x}<br>Feature Value=%{y}<extra></extra>",
         "legendgroup": "liveness",
         "line": {
          "color": "#FFA15A",
          "dash": "solid"
         },
         "marker": {
          "symbol": "circle"
         },
         "mode": "lines",
         "name": "liveness",
         "orientation": "v",
         "showlegend": true,
         "type": "scatter",
         "x": {
          "bdata": "gQeCB4MHhAeFB4YHhweIB4kHigeLB4wHjQeOB48HkAeRB5IHkweUB5UHlgeXB5gHmQeaB5sHnAedB54HnwegB6EHogejB6QHpQemB6cHqAepB6oHqwesB60HrgevB7AHsQeyB7MHtAe1B7YHtwe4B7kHuge7B7wHvQe+B78HwAfBB8IHwwfEB8UHxgfHB8gHyQfKB8sHzAfNB84HzwfQB9EH0gfTB9QH1QfWB9cH2AfZB9oH2wfcB90H3gffB+AH4QfiB+MH5Ac=",
          "dtype": "i2"
         },
         "xaxis": "x",
         "y": {
          "bdata": "huY6jbRUyj+lU9Ja58/OPwUvyOl6Hc0/hYDKjagbzj9E+sCQ52vOPzkNlG5Jvs0/qDdIEMePxT+DmknX4W/GP5l8FEBBNc4/+Rj1EupTzD9m3GPsWxzNPxXdO5xvws0/2kama97Cyj8qVbglalLLPx/sjLWyWc0/eSK53RZYzD8DrrG5guzMP0kE8gKoWc4/R+w1mOGazj9C1WvE3erQP1Xs0MPj1ck/K8nYmpk/yz9YIcDTdJ7OPxYa8zcUkM4/vJwB5Dr8yT80STpTGPzKP4g1bQtxpsw/gi1cUOsezD+/t96A4LvKP6fWS/hKxcs/mGlnPSHgyz/0269MCdLNP1s/VQnIYcw/NIx8Azjiyz/+0jZZ/lfMP0woW8kzVMc/dREbEU5kxz/cJXcz/ljKP5DOShRPjsg/5VybWEebyj/Cpia7pb3KPy0meDG418k/11obdFMUyj9ewrYaRc7LP8CCH58UX8s/X9v9hXnqyz9HW3Nm/W/IP4yUAOsn0ss/94/xzdt9yj96B/vAnyvLP5Kf1+lRgss/gWb/8n99yj8Mvr7WpcbJP127ZHfcy8o/LGE6CJWTyz+zUVOBSeDPP6n8YCpHksw/O5Q6t7/pyz8jRwd/GlLLP7IleEudFMo/fJtq0hLQzD9UO8PUlrrJP1hYmHRKdsk/JrSbz29OyT80ffPRmH/JP1HkOKbdHss/5zzbq7rbyT+MmGkeKZbKP1/8I8J1e8k/9EgoImhxyD+V+NgX/iTIP+7o1QClock/7sRXO4rzyD90Xvex3ZjIP18j4wedxsk/POVUfI1uyT+Eg3nZwGfJPyjB3JMszMg/M4K3VU1oyj+YaKm4xk3JPxS/37508Mc/p/8pCxXSyD/HXRAChTbJPyhYFdir4ck/r2/ZPphUyD9ifUz63BnIPx9DWd2sGsk/t5kHSTNmyT+S+zINtUXKP7erSm3Kj8k/kKwnCQYGyj+OLIzTK0nIPyUzPbGAjck/UcLDLJyNyD8hQA6XcizIP1JuczmTMMc/u1562gmKyD+dtgfL1ZHGP2bKe3hLGMY/qtBJpD/axj8=",
          "dtype": "f8"
         },
         "yaxis": "y"
        },
        {
         "hovertemplate": "Sound Feature=valence<br>year=%{x}<br>Feature Value=%{y}<extra></extra>",
         "legendgroup": "valence",
         "line": {
          "color": "#19d3f3",
          "dash": "solid"
         },
         "marker": {
          "symbol": "circle"
         },
         "mode": "lines",
         "name": "valence",
         "orientation": "v",
         "showlegend": true,
         "type": "scatter",
         "x": {
          "bdata": "gQeCB4MHhAeFB4YHhweIB4kHigeLB4wHjQeOB48HkAeRB5IHkweUB5UHlgeXB5gHmQeaB5sHnAedB54HnwegB6EHogejB6QHpQemB6cHqAepB6oHqwesB60HrgevB7AHsQeyB7MHtAe1B7YHtwe4B7kHuge7B7wHvQe+B78HwAfBB8IHwwfEB8UHxgfHB8gHyQfKB8sHzAfNB84HzwfQB9EH0gfTB9QH1QfWB9cH2AfZB9oH2wfcB90H3gffB+AH4QfiB+MH5Ac=",
          "dtype": "i2"
         },
         "xaxis": "x",
         "y": {
          "bdata": "sGD1WuNG2D8o79dGOCPhP1MrprQIBOQ/RgyOGT095T/XCLIt1+bjP/7FOEdX9ts/0N6IMkQc5T94MSm2wbnfP2WMYs9zXuQ/jrFk+je44z9cPxqDdGvgP55vNtY00uI/SaqX2V0u4z+6BoBVuuHhPyJX6ZJfdeE/iPoS/s4M4j83GeGdyb7iP8gY2dwmeuA/Beq2n+fq4T9oEpl/FbzjPwr9tGRor94/sH6F4t2N3j/vvhnShrXfP2XJxppgTeE/oy0x4HZy3z/dQgWg/XzZPy2dxPRGQ+A/zLidlb2T3T8P4gM7/ovbP40ki0Udp+E/xdxaywk/3D9BA26+UlzcP6IQ5jgQd9s/79kY4Cfz3D8156c4DjzeP9kKiWoAReA/YC5W9zFa4D9+nL6er9nfP41mBqNcnt4/O7KLXAzE4D/NlR3xRmngP4b24TKDh+E/ZVz0XzFU4T8Mpi7OE9XhPwSHPdoll+I//XumTYuQ4j8naBLoFaDhPyjMD7eeHOI/Ju0VL3nA4T9gE7sRcU7iP7Mv2XiwZeI/AKxbmOAP4z9I0U2snfLiP5kQQMXMmeI/GBrjHqY44j+wZI7lXZXiPzkZC/lWuuI/pdpSB3nd4j+F90SN+ITjP3a1a6NKI+M/AJFco4qn4j/nvXuRGsTiP1GBfGTOTuI/TQtVOQan4T94eu+5XRniP4fqgNpeoeE/2eWIbJFT4T/ZGJbtznzhP1VEGnDxi+E/oegm1k7Z4D+P3B1qlY7hP3j5Nx4i5OE/qQ9ufDfH4T8e63ZRT9rgP0H7ae3H9+A/f3A+dazy4T8Gc/T4vY3hP58F/HUCNeE/7WY3MnbO4T+Jh4QUOefhP2foIP7LU+E/DTKWRFFb4T9J7kcL5PngP7YPGDmcyOA/pytXSn4K4T/GC9FnEqTgP5AngD+TieA/JkP9iJ/h4D+EkNXeuzrgPx6B7FIsq+A/F4PBWq483j9RSXFDBp3dP7swc896Gt0/jrKMV5ei3T/MGajqf6fbP/miIaQ4nts/HscWQoyn2j8TgCb+varcP6q0cJ5EXd0/6bWSaZUI4D8=",
          "dtype": "f8"
         },
         "yaxis": "y"
        }
       ],
       "layout": {
        "legend": {
         "title": {
          "text": "Sound Feature"
         },
         "tracegroupgap": 0
        },
        "template": {
         "data": {
          "bar": [
           {
            "error_x": {
             "color": "#2a3f5f"
            },
            "error_y": {
             "color": "#2a3f5f"
            },
            "marker": {
             "line": {
              "color": "#E5ECF6",
              "width": 0.5
             },
             "pattern": {
              "fillmode": "overlay",
              "size": 10,
              "solidity": 0.2
             }
            },
            "type": "bar"
           }
          ],
          "barpolar": [
           {
            "marker": {
             "line": {
              "color": "#E5ECF6",
              "width": 0.5
             },
             "pattern": {
              "fillmode": "overlay",
              "size": 10,
              "solidity": 0.2
             }
            },
            "type": "barpolar"
           }
          ],
          "carpet": [
           {
            "aaxis": {
             "endlinecolor": "#2a3f5f",
             "gridcolor": "white",
             "linecolor": "white",
             "minorgridcolor": "white",
             "startlinecolor": "#2a3f5f"
            },
            "baxis": {
             "endlinecolor": "#2a3f5f",
             "gridcolor": "white",
             "linecolor": "white",
             "minorgridcolor": "white",
             "startlinecolor": "#2a3f5f"
            },
            "type": "carpet"
           }
          ],
          "choropleth": [
           {
            "colorbar": {
             "outlinewidth": 0,
             "ticks": ""
            },
            "type": "choropleth"
           }
          ],
          "contour": [
           {
            "colorbar": {
             "outlinewidth": 0,
             "ticks": ""
            },
            "colorscale": [
             [
              0,
              "#0d0887"
             ],
             [
              0.1111111111111111,
              "#46039f"
             ],
             [
              0.2222222222222222,
              "#7201a8"
             ],
             [
              0.3333333333333333,
              "#9c179e"
             ],
             [
              0.4444444444444444,
              "#bd3786"
             ],
             [
              0.5555555555555556,
              "#d8576b"
             ],
             [
              0.6666666666666666,
              "#ed7953"
             ],
             [
              0.7777777777777778,
              "#fb9f3a"
             ],
             [
              0.8888888888888888,
              "#fdca26"
             ],
             [
              1,
              "#f0f921"
             ]
            ],
            "type": "contour"
           }
          ],
          "contourcarpet": [
           {
            "colorbar": {
             "outlinewidth": 0,
             "ticks": ""
            },
            "type": "contourcarpet"
           }
          ],
          "heatmap": [
           {
            "colorbar": {
             "outlinewidth": 0,
             "ticks": ""
            },
            "colorscale": [
             [
              0,
              "#0d0887"
             ],
             [
              0.1111111111111111,
              "#46039f"
             ],
             [
              0.2222222222222222,
              "#7201a8"
             ],
             [
              0.3333333333333333,
              "#9c179e"
             ],
             [
              0.4444444444444444,
              "#bd3786"
             ],
             [
              0.5555555555555556,
              "#d8576b"
             ],
             [
              0.6666666666666666,
              "#ed7953"
             ],
             [
              0.7777777777777778,
              "#fb9f3a"
             ],
             [
              0.8888888888888888,
              "#fdca26"
             ],
             [
              1,
              "#f0f921"
             ]
            ],
            "type": "heatmap"
           }
          ],
          "histogram": [
           {
            "marker": {
             "pattern": {
              "fillmode": "overlay",
              "size": 10,
              "solidity": 0.2
             }
            },
            "type": "histogram"
           }
          ],
          "histogram2d": [
           {
            "colorbar": {
             "outlinewidth": 0,
             "ticks": ""
            },
            "colorscale": [
             [
              0,
              "#0d0887"
             ],
             [
              0.1111111111111111,
              "#46039f"
             ],
             [
              0.2222222222222222,
              "#7201a8"
             ],
             [
              0.3333333333333333,
              "#9c179e"
             ],
             [
              0.4444444444444444,
              "#bd3786"
             ],
             [
              0.5555555555555556,
              "#d8576b"
             ],
             [
              0.6666666666666666,
              "#ed7953"
             ],
             [
              0.7777777777777778,
              "#fb9f3a"
             ],
             [
              0.8888888888888888,
              "#fdca26"
             ],
             [
              1,
              "#f0f921"
             ]
            ],
            "type": "histogram2d"
           }
          ],
          "histogram2dcontour": [
           {
            "colorbar": {
             "outlinewidth": 0,
             "ticks": ""
            },
            "colorscale": [
             [
              0,
              "#0d0887"
             ],
             [
              0.1111111111111111,
              "#46039f"
             ],
             [
              0.2222222222222222,
              "#7201a8"
             ],
             [
              0.3333333333333333,
              "#9c179e"
             ],
             [
              0.4444444444444444,
              "#bd3786"
             ],
             [
              0.5555555555555556,
              "#d8576b"
             ],
             [
              0.6666666666666666,
              "#ed7953"
             ],
             [
              0.7777777777777778,
              "#fb9f3a"
             ],
             [
              0.8888888888888888,
              "#fdca26"
             ],
             [
              1,
              "#f0f921"
             ]
            ],
            "type": "histogram2dcontour"
           }
          ],
          "mesh3d": [
           {
            "colorbar": {
             "outlinewidth": 0,
             "ticks": ""
            },
            "type": "mesh3d"
           }
          ],
          "parcoords": [
           {
            "line": {
             "colorbar": {
              "outlinewidth": 0,
              "ticks": ""
             }
            },
            "type": "parcoords"
           }
          ],
          "pie": [
           {
            "automargin": true,
            "type": "pie"
           }
          ],
          "scatter": [
           {
            "fillpattern": {
             "fillmode": "overlay",
             "size": 10,
             "solidity": 0.2
            },
            "type": "scatter"
           }
          ],
          "scatter3d": [
           {
            "line": {
             "colorbar": {
              "outlinewidth": 0,
              "ticks": ""
             }
            },
            "marker": {
             "colorbar": {
              "outlinewidth": 0,
              "ticks": ""
             }
            },
            "type": "scatter3d"
           }
          ],
          "scattercarpet": [
           {
            "marker": {
             "colorbar": {
              "outlinewidth": 0,
              "ticks": ""
             }
            },
            "type": "scattercarpet"
           }
          ],
          "scattergeo": [
           {
            "marker": {
             "colorbar": {
              "outlinewidth": 0,
              "ticks": ""
             }
            },
            "type": "scattergeo"
           }
          ],
          "scattergl": [
           {
            "marker": {
             "colorbar": {
              "outlinewidth": 0,
              "ticks": ""
             }
            },
            "type": "scattergl"
           }
          ],
          "scattermap": [
           {
            "marker": {
             "colorbar": {
              "outlinewidth": 0,
              "ticks": ""
             }
            },
            "type": "scattermap"
           }
          ],
          "scattermapbox": [
           {
            "marker": {
             "colorbar": {
              "outlinewidth": 0,
              "ticks": ""
             }
            },
            "type": "scattermapbox"
           }
          ],
          "scatterpolar": [
           {
            "marker": {
             "colorbar": {
              "outlinewidth": 0,
              "ticks": ""
             }
            },
            "type": "scatterpolar"
           }
          ],
          "scatterpolargl": [
           {
            "marker": {
             "colorbar": {
              "outlinewidth": 0,
              "ticks": ""
             }
            },
            "type": "scatterpolargl"
           }
          ],
          "scatterternary": [
           {
            "marker": {
             "colorbar": {
              "outlinewidth": 0,
              "ticks": ""
             }
            },
            "type": "scatterternary"
           }
          ],
          "surface": [
           {
            "colorbar": {
             "outlinewidth": 0,
             "ticks": ""
            },
            "colorscale": [
             [
              0,
              "#0d0887"
             ],
             [
              0.1111111111111111,
              "#46039f"
             ],
             [
              0.2222222222222222,
              "#7201a8"
             ],
             [
              0.3333333333333333,
              "#9c179e"
             ],
             [
              0.4444444444444444,
              "#bd3786"
             ],
             [
              0.5555555555555556,
              "#d8576b"
             ],
             [
              0.6666666666666666,
              "#ed7953"
             ],
             [
              0.7777777777777778,
              "#fb9f3a"
             ],
             [
              0.8888888888888888,
              "#fdca26"
             ],
             [
              1,
              "#f0f921"
             ]
            ],
            "type": "surface"
           }
          ],
          "table": [
           {
            "cells": {
             "fill": {
              "color": "#EBF0F8"
             },
             "line": {
              "color": "white"
             }
            },
            "header": {
             "fill": {
              "color": "#C8D4E3"
             },
             "line": {
              "color": "white"
             }
            },
            "type": "table"
           }
          ]
         },
         "layout": {
          "annotationdefaults": {
           "arrowcolor": "#2a3f5f",
           "arrowhead": 0,
           "arrowwidth": 1
          },
          "autotypenumbers": "strict",
          "coloraxis": {
           "colorbar": {
            "outlinewidth": 0,
            "ticks": ""
           }
          },
          "colorscale": {
           "diverging": [
            [
             0,
             "#8e0152"
            ],
            [
             0.1,
             "#c51b7d"
            ],
            [
             0.2,
             "#de77ae"
            ],
            [
             0.3,
             "#f1b6da"
            ],
            [
             0.4,
             "#fde0ef"
            ],
            [
             0.5,
             "#f7f7f7"
            ],
            [
             0.6,
             "#e6f5d0"
            ],
            [
             0.7,
             "#b8e186"
            ],
            [
             0.8,
             "#7fbc41"
            ],
            [
             0.9,
             "#4d9221"
            ],
            [
             1,
             "#276419"
            ]
           ],
           "sequential": [
            [
             0,
             "#0d0887"
            ],
            [
             0.1111111111111111,
             "#46039f"
            ],
            [
             0.2222222222222222,
             "#7201a8"
            ],
            [
             0.3333333333333333,
             "#9c179e"
            ],
            [
             0.4444444444444444,
             "#bd3786"
            ],
            [
             0.5555555555555556,
             "#d8576b"
            ],
            [
             0.6666666666666666,
             "#ed7953"
            ],
            [
             0.7777777777777778,
             "#fb9f3a"
            ],
            [
             0.8888888888888888,
             "#fdca26"
            ],
            [
             1,
             "#f0f921"
            ]
           ],
           "sequentialminus": [
            [
             0,
             "#0d0887"
            ],
            [
             0.1111111111111111,
             "#46039f"
            ],
            [
             0.2222222222222222,
             "#7201a8"
            ],
            [
             0.3333333333333333,
             "#9c179e"
            ],
            [
             0.4444444444444444,
             "#bd3786"
            ],
            [
             0.5555555555555556,
             "#d8576b"
            ],
            [
             0.6666666666666666,
             "#ed7953"
            ],
            [
             0.7777777777777778,
             "#fb9f3a"
            ],
            [
             0.8888888888888888,
             "#fdca26"
            ],
            [
             1,
             "#f0f921"
            ]
           ]
          },
          "colorway": [
           "#636efa",
           "#EF553B",
           "#00cc96",
           "#ab63fa",
           "#FFA15A",
           "#19d3f3",
           "#FF6692",
           "#B6E880",
           "#FF97FF",
           "#FECB52"
          ],
          "font": {
           "color": "#2a3f5f"
          },
          "geo": {
           "bgcolor": "white",
           "lakecolor": "white",
           "landcolor": "#E5ECF6",
           "showlakes": true,
           "showland": true,
           "subunitcolor": "white"
          },
          "hoverlabel": {
           "align": "left"
          },
          "hovermode": "closest",
          "mapbox": {
           "style": "light"
          },
          "paper_bgcolor": "white",
          "plot_bgcolor": "#E5ECF6",
          "polar": {
           "angularaxis": {
            "gridcolor": "white",
            "linecolor": "white",
            "ticks": ""
           },
           "bgcolor": "#E5ECF6",
           "radialaxis": {
            "gridcolor": "white",
            "linecolor": "white",
            "ticks": ""
           }
          },
          "scene": {
           "xaxis": {
            "backgroundcolor": "#E5ECF6",
            "gridcolor": "white",
            "gridwidth": 2,
            "linecolor": "white",
            "showbackground": true,
            "ticks": "",
            "zerolinecolor": "white"
           },
           "yaxis": {
            "backgroundcolor": "#E5ECF6",
            "gridcolor": "white",
            "gridwidth": 2,
            "linecolor": "white",
            "showbackground": true,
            "ticks": "",
            "zerolinecolor": "white"
           },
           "zaxis": {
            "backgroundcolor": "#E5ECF6",
            "gridcolor": "white",
            "gridwidth": 2,
            "linecolor": "white",
            "showbackground": true,
            "ticks": "",
            "zerolinecolor": "white"
           }
          },
          "shapedefaults": {
           "line": {
            "color": "#2a3f5f"
           }
          },
          "ternary": {
           "aaxis": {
            "gridcolor": "white",
            "linecolor": "white",
            "ticks": ""
           },
           "baxis": {
            "gridcolor": "white",
            "linecolor": "white",
            "ticks": ""
           },
           "bgcolor": "#E5ECF6",
           "caxis": {
            "gridcolor": "white",
            "linecolor": "white",
            "ticks": ""
           }
          },
          "title": {
           "x": 0.05
          },
          "xaxis": {
           "automargin": true,
           "gridcolor": "white",
           "linecolor": "white",
           "ticks": "",
           "title": {
            "standoff": 15
           },
           "zerolinecolor": "white",
           "zerolinewidth": 2
          },
          "yaxis": {
           "automargin": true,
           "gridcolor": "white",
           "linecolor": "white",
           "ticks": "",
           "title": {
            "standoff": 15
           },
           "zerolinecolor": "white",
           "zerolinewidth": 2
          }
         }
        },
        "title": {
         "text": "Trend of Various Sound Features Over Time"
        },
        "xaxis": {
         "anchor": "y",
         "domain": [
          0,
          1
         ],
         "title": {
          "text": "year"
         }
        },
        "yaxis": {
         "anchor": "x",
         "domain": [
          0,
          1
         ],
         "title": {
          "text": "Feature Value"
         }
        }
       }
      }
     },
     "metadata": {},
     "output_type": "display_data"
    }
   ],
   "source": [
    "# Define features to plot\n",
    "sound_features = ['acousticness', 'danceability', 'energy', 'instrumentalness', 'liveness', 'valence']\n",
    "\n",
    "# Create line plot\n",
    "fig = px.line(\n",
    "    year_data,\n",
    "    x='year',\n",
    "    y=sound_features,\n",
    "    title='Trend of Various Sound Features Over Time',\n",
    "    labels={'value': 'Feature Value', 'variable': 'Sound Feature'},\n",
    ")\n",
    "\n",
    "# Show the plot\n",
    "fig.show()"
   ]
  },
  {
   "cell_type": "code",
   "execution_count": 21,
   "id": "e7a3a83a",
   "metadata": {},
   "outputs": [
    {
     "data": {
      "application/vnd.plotly.v1+json": {
       "config": {
        "plotlyServerURL": "https://plot.ly"
       },
       "data": [
        {
         "hovertemplate": "Decade=%{x}<br>Average Loudness (dB)=%{y}<extra></extra>",
         "legendgroup": "",
         "line": {
          "color": "#636efa",
          "dash": "solid"
         },
         "marker": {
          "symbol": "circle"
         },
         "mode": "lines+markers",
         "name": "",
         "orientation": "v",
         "showlegend": false,
         "type": "scatter",
         "x": {
          "bdata": "gAeKB5QHngeoB7IHvAfGB9AH2gfkBw==",
          "dtype": "i2"
         },
         "xaxis": "x",
         "y": {
          "bdata": "8hTSjveyMMBb8c4t3m0swI3SvLavqS7AATaLPWN2LcDJVbMlfVopwHJaphWV2SbAri5LBDh0JsByNsmfQgIkwNW+EUL2AR7AQrCtfZIJHsDfFQs+WWEawA==",
          "dtype": "f8"
         },
         "yaxis": "y"
        }
       ],
       "layout": {
        "legend": {
         "tracegroupgap": 0
        },
        "template": {
         "data": {
          "bar": [
           {
            "error_x": {
             "color": "#2a3f5f"
            },
            "error_y": {
             "color": "#2a3f5f"
            },
            "marker": {
             "line": {
              "color": "#E5ECF6",
              "width": 0.5
             },
             "pattern": {
              "fillmode": "overlay",
              "size": 10,
              "solidity": 0.2
             }
            },
            "type": "bar"
           }
          ],
          "barpolar": [
           {
            "marker": {
             "line": {
              "color": "#E5ECF6",
              "width": 0.5
             },
             "pattern": {
              "fillmode": "overlay",
              "size": 10,
              "solidity": 0.2
             }
            },
            "type": "barpolar"
           }
          ],
          "carpet": [
           {
            "aaxis": {
             "endlinecolor": "#2a3f5f",
             "gridcolor": "white",
             "linecolor": "white",
             "minorgridcolor": "white",
             "startlinecolor": "#2a3f5f"
            },
            "baxis": {
             "endlinecolor": "#2a3f5f",
             "gridcolor": "white",
             "linecolor": "white",
             "minorgridcolor": "white",
             "startlinecolor": "#2a3f5f"
            },
            "type": "carpet"
           }
          ],
          "choropleth": [
           {
            "colorbar": {
             "outlinewidth": 0,
             "ticks": ""
            },
            "type": "choropleth"
           }
          ],
          "contour": [
           {
            "colorbar": {
             "outlinewidth": 0,
             "ticks": ""
            },
            "colorscale": [
             [
              0,
              "#0d0887"
             ],
             [
              0.1111111111111111,
              "#46039f"
             ],
             [
              0.2222222222222222,
              "#7201a8"
             ],
             [
              0.3333333333333333,
              "#9c179e"
             ],
             [
              0.4444444444444444,
              "#bd3786"
             ],
             [
              0.5555555555555556,
              "#d8576b"
             ],
             [
              0.6666666666666666,
              "#ed7953"
             ],
             [
              0.7777777777777778,
              "#fb9f3a"
             ],
             [
              0.8888888888888888,
              "#fdca26"
             ],
             [
              1,
              "#f0f921"
             ]
            ],
            "type": "contour"
           }
          ],
          "contourcarpet": [
           {
            "colorbar": {
             "outlinewidth": 0,
             "ticks": ""
            },
            "type": "contourcarpet"
           }
          ],
          "heatmap": [
           {
            "colorbar": {
             "outlinewidth": 0,
             "ticks": ""
            },
            "colorscale": [
             [
              0,
              "#0d0887"
             ],
             [
              0.1111111111111111,
              "#46039f"
             ],
             [
              0.2222222222222222,
              "#7201a8"
             ],
             [
              0.3333333333333333,
              "#9c179e"
             ],
             [
              0.4444444444444444,
              "#bd3786"
             ],
             [
              0.5555555555555556,
              "#d8576b"
             ],
             [
              0.6666666666666666,
              "#ed7953"
             ],
             [
              0.7777777777777778,
              "#fb9f3a"
             ],
             [
              0.8888888888888888,
              "#fdca26"
             ],
             [
              1,
              "#f0f921"
             ]
            ],
            "type": "heatmap"
           }
          ],
          "histogram": [
           {
            "marker": {
             "pattern": {
              "fillmode": "overlay",
              "size": 10,
              "solidity": 0.2
             }
            },
            "type": "histogram"
           }
          ],
          "histogram2d": [
           {
            "colorbar": {
             "outlinewidth": 0,
             "ticks": ""
            },
            "colorscale": [
             [
              0,
              "#0d0887"
             ],
             [
              0.1111111111111111,
              "#46039f"
             ],
             [
              0.2222222222222222,
              "#7201a8"
             ],
             [
              0.3333333333333333,
              "#9c179e"
             ],
             [
              0.4444444444444444,
              "#bd3786"
             ],
             [
              0.5555555555555556,
              "#d8576b"
             ],
             [
              0.6666666666666666,
              "#ed7953"
             ],
             [
              0.7777777777777778,
              "#fb9f3a"
             ],
             [
              0.8888888888888888,
              "#fdca26"
             ],
             [
              1,
              "#f0f921"
             ]
            ],
            "type": "histogram2d"
           }
          ],
          "histogram2dcontour": [
           {
            "colorbar": {
             "outlinewidth": 0,
             "ticks": ""
            },
            "colorscale": [
             [
              0,
              "#0d0887"
             ],
             [
              0.1111111111111111,
              "#46039f"
             ],
             [
              0.2222222222222222,
              "#7201a8"
             ],
             [
              0.3333333333333333,
              "#9c179e"
             ],
             [
              0.4444444444444444,
              "#bd3786"
             ],
             [
              0.5555555555555556,
              "#d8576b"
             ],
             [
              0.6666666666666666,
              "#ed7953"
             ],
             [
              0.7777777777777778,
              "#fb9f3a"
             ],
             [
              0.8888888888888888,
              "#fdca26"
             ],
             [
              1,
              "#f0f921"
             ]
            ],
            "type": "histogram2dcontour"
           }
          ],
          "mesh3d": [
           {
            "colorbar": {
             "outlinewidth": 0,
             "ticks": ""
            },
            "type": "mesh3d"
           }
          ],
          "parcoords": [
           {
            "line": {
             "colorbar": {
              "outlinewidth": 0,
              "ticks": ""
             }
            },
            "type": "parcoords"
           }
          ],
          "pie": [
           {
            "automargin": true,
            "type": "pie"
           }
          ],
          "scatter": [
           {
            "fillpattern": {
             "fillmode": "overlay",
             "size": 10,
             "solidity": 0.2
            },
            "type": "scatter"
           }
          ],
          "scatter3d": [
           {
            "line": {
             "colorbar": {
              "outlinewidth": 0,
              "ticks": ""
             }
            },
            "marker": {
             "colorbar": {
              "outlinewidth": 0,
              "ticks": ""
             }
            },
            "type": "scatter3d"
           }
          ],
          "scattercarpet": [
           {
            "marker": {
             "colorbar": {
              "outlinewidth": 0,
              "ticks": ""
             }
            },
            "type": "scattercarpet"
           }
          ],
          "scattergeo": [
           {
            "marker": {
             "colorbar": {
              "outlinewidth": 0,
              "ticks": ""
             }
            },
            "type": "scattergeo"
           }
          ],
          "scattergl": [
           {
            "marker": {
             "colorbar": {
              "outlinewidth": 0,
              "ticks": ""
             }
            },
            "type": "scattergl"
           }
          ],
          "scattermap": [
           {
            "marker": {
             "colorbar": {
              "outlinewidth": 0,
              "ticks": ""
             }
            },
            "type": "scattermap"
           }
          ],
          "scattermapbox": [
           {
            "marker": {
             "colorbar": {
              "outlinewidth": 0,
              "ticks": ""
             }
            },
            "type": "scattermapbox"
           }
          ],
          "scatterpolar": [
           {
            "marker": {
             "colorbar": {
              "outlinewidth": 0,
              "ticks": ""
             }
            },
            "type": "scatterpolar"
           }
          ],
          "scatterpolargl": [
           {
            "marker": {
             "colorbar": {
              "outlinewidth": 0,
              "ticks": ""
             }
            },
            "type": "scatterpolargl"
           }
          ],
          "scatterternary": [
           {
            "marker": {
             "colorbar": {
              "outlinewidth": 0,
              "ticks": ""
             }
            },
            "type": "scatterternary"
           }
          ],
          "surface": [
           {
            "colorbar": {
             "outlinewidth": 0,
             "ticks": ""
            },
            "colorscale": [
             [
              0,
              "#0d0887"
             ],
             [
              0.1111111111111111,
              "#46039f"
             ],
             [
              0.2222222222222222,
              "#7201a8"
             ],
             [
              0.3333333333333333,
              "#9c179e"
             ],
             [
              0.4444444444444444,
              "#bd3786"
             ],
             [
              0.5555555555555556,
              "#d8576b"
             ],
             [
              0.6666666666666666,
              "#ed7953"
             ],
             [
              0.7777777777777778,
              "#fb9f3a"
             ],
             [
              0.8888888888888888,
              "#fdca26"
             ],
             [
              1,
              "#f0f921"
             ]
            ],
            "type": "surface"
           }
          ],
          "table": [
           {
            "cells": {
             "fill": {
              "color": "#EBF0F8"
             },
             "line": {
              "color": "white"
             }
            },
            "header": {
             "fill": {
              "color": "#C8D4E3"
             },
             "line": {
              "color": "white"
             }
            },
            "type": "table"
           }
          ]
         },
         "layout": {
          "annotationdefaults": {
           "arrowcolor": "#2a3f5f",
           "arrowhead": 0,
           "arrowwidth": 1
          },
          "autotypenumbers": "strict",
          "coloraxis": {
           "colorbar": {
            "outlinewidth": 0,
            "ticks": ""
           }
          },
          "colorscale": {
           "diverging": [
            [
             0,
             "#8e0152"
            ],
            [
             0.1,
             "#c51b7d"
            ],
            [
             0.2,
             "#de77ae"
            ],
            [
             0.3,
             "#f1b6da"
            ],
            [
             0.4,
             "#fde0ef"
            ],
            [
             0.5,
             "#f7f7f7"
            ],
            [
             0.6,
             "#e6f5d0"
            ],
            [
             0.7,
             "#b8e186"
            ],
            [
             0.8,
             "#7fbc41"
            ],
            [
             0.9,
             "#4d9221"
            ],
            [
             1,
             "#276419"
            ]
           ],
           "sequential": [
            [
             0,
             "#0d0887"
            ],
            [
             0.1111111111111111,
             "#46039f"
            ],
            [
             0.2222222222222222,
             "#7201a8"
            ],
            [
             0.3333333333333333,
             "#9c179e"
            ],
            [
             0.4444444444444444,
             "#bd3786"
            ],
            [
             0.5555555555555556,
             "#d8576b"
            ],
            [
             0.6666666666666666,
             "#ed7953"
            ],
            [
             0.7777777777777778,
             "#fb9f3a"
            ],
            [
             0.8888888888888888,
             "#fdca26"
            ],
            [
             1,
             "#f0f921"
            ]
           ],
           "sequentialminus": [
            [
             0,
             "#0d0887"
            ],
            [
             0.1111111111111111,
             "#46039f"
            ],
            [
             0.2222222222222222,
             "#7201a8"
            ],
            [
             0.3333333333333333,
             "#9c179e"
            ],
            [
             0.4444444444444444,
             "#bd3786"
            ],
            [
             0.5555555555555556,
             "#d8576b"
            ],
            [
             0.6666666666666666,
             "#ed7953"
            ],
            [
             0.7777777777777778,
             "#fb9f3a"
            ],
            [
             0.8888888888888888,
             "#fdca26"
            ],
            [
             1,
             "#f0f921"
            ]
           ]
          },
          "colorway": [
           "#636efa",
           "#EF553B",
           "#00cc96",
           "#ab63fa",
           "#FFA15A",
           "#19d3f3",
           "#FF6692",
           "#B6E880",
           "#FF97FF",
           "#FECB52"
          ],
          "font": {
           "color": "#2a3f5f"
          },
          "geo": {
           "bgcolor": "white",
           "lakecolor": "white",
           "landcolor": "#E5ECF6",
           "showlakes": true,
           "showland": true,
           "subunitcolor": "white"
          },
          "hoverlabel": {
           "align": "left"
          },
          "hovermode": "closest",
          "mapbox": {
           "style": "light"
          },
          "paper_bgcolor": "white",
          "plot_bgcolor": "#E5ECF6",
          "polar": {
           "angularaxis": {
            "gridcolor": "white",
            "linecolor": "white",
            "ticks": ""
           },
           "bgcolor": "#E5ECF6",
           "radialaxis": {
            "gridcolor": "white",
            "linecolor": "white",
            "ticks": ""
           }
          },
          "scene": {
           "xaxis": {
            "backgroundcolor": "#E5ECF6",
            "gridcolor": "white",
            "gridwidth": 2,
            "linecolor": "white",
            "showbackground": true,
            "ticks": "",
            "zerolinecolor": "white"
           },
           "yaxis": {
            "backgroundcolor": "#E5ECF6",
            "gridcolor": "white",
            "gridwidth": 2,
            "linecolor": "white",
            "showbackground": true,
            "ticks": "",
            "zerolinecolor": "white"
           },
           "zaxis": {
            "backgroundcolor": "#E5ECF6",
            "gridcolor": "white",
            "gridwidth": 2,
            "linecolor": "white",
            "showbackground": true,
            "ticks": "",
            "zerolinecolor": "white"
           }
          },
          "shapedefaults": {
           "line": {
            "color": "#2a3f5f"
           }
          },
          "ternary": {
           "aaxis": {
            "gridcolor": "white",
            "linecolor": "white",
            "ticks": ""
           },
           "baxis": {
            "gridcolor": "white",
            "linecolor": "white",
            "ticks": ""
           },
           "bgcolor": "#E5ECF6",
           "caxis": {
            "gridcolor": "white",
            "linecolor": "white",
            "ticks": ""
           }
          },
          "title": {
           "x": 0.05
          },
          "xaxis": {
           "automargin": true,
           "gridcolor": "white",
           "linecolor": "white",
           "ticks": "",
           "title": {
            "standoff": 15
           },
           "zerolinecolor": "white",
           "zerolinewidth": 2
          },
          "yaxis": {
           "automargin": true,
           "gridcolor": "white",
           "linecolor": "white",
           "ticks": "",
           "title": {
            "standoff": 15
           },
           "zerolinecolor": "white",
           "zerolinewidth": 2
          }
         }
        },
        "title": {
         "text": "Trend of Loudness Over Decades"
        },
        "xaxis": {
         "anchor": "y",
         "domain": [
          0,
          1
         ],
         "title": {
          "text": "Decade"
         }
        },
        "yaxis": {
         "anchor": "x",
         "domain": [
          0,
          1
         ],
         "title": {
          "text": "Average Loudness (dB)"
         }
        }
       }
      }
     },
     "metadata": {},
     "output_type": "display_data"
    }
   ],
   "source": [
    "# grouping the data into decades\n",
    "# and calculating the average loudness for each decade\n",
    "loudness_by_decade = (\n",
    "    data.groupby((data['year'] // 10) * 10)['loudness']\n",
    "    .mean()\n",
    "    .reset_index()\n",
    "    .rename(columns={'year': 'decade'})\n",
    ")\n",
    "\n",
    "# Plot the trend using Plotly Express\n",
    "fig = px.line(\n",
    "    loudness_by_decade,\n",
    "    x='decade',\n",
    "    y='loudness',\n",
    "    title='Trend of Loudness Over Decades',\n",
    "    labels={'decade': 'Decade', 'loudness': 'Average Loudness (dB)'}\n",
    ")\n",
    "\n",
    "fig.update_traces(mode='lines+markers')\n",
    "fig.show()"
   ]
  },
  {
   "cell_type": "code",
   "execution_count": 22,
   "id": "6c0c5d17",
   "metadata": {},
   "outputs": [
    {
     "data": {
      "application/vnd.plotly.v1+json": {
       "config": {
        "plotlyServerURL": "https://plot.ly"
       },
       "data": [
        {
         "alignmentgroup": "True",
         "hovertemplate": "feature=valence<br>Genre=%{x}<br>Average Feature Value=%{y}<extra></extra>",
         "legendgroup": "valence",
         "marker": {
          "color": "#636efa",
          "pattern": {
           "shape": ""
          }
         },
         "name": "valence",
         "offsetgroup": "valence",
         "orientation": "v",
         "showlegend": true,
         "textposition": "auto",
         "type": "bar",
         "x": [
          "['afroswing', 'london rap', 'rap']",
          "['australian pop', 'pop', 'uk pop']",
          "['basshall', 'francoton']",
          "['edm', 'german dance', 'pop dance', 'pop edm', 'tropical house']",
          "['latin pop', 'viral pop']",
          "['pop dance', 'tropical house', 'uk contemporary r&b', 'uk dance']",
          "['reggaeton flow']",
          "['scandipop', 'swedish pop', 'tropical house']",
          "['south african house']",
          "['south african pop']"
         ],
         "xaxis": "x",
         "y": {
          "bdata": "2c73U+Ol0z/6fmq8dJPgPxsv3SQGgeU/AAAAAAAA4D83iUFg5dDuP0w3iUFg5eI/5/up8dJN7j/8qfHSTWLkPxFYObTIduo/EVg5tMh26j8=",
          "dtype": "f8"
         },
         "yaxis": "y"
        },
        {
         "alignmentgroup": "True",
         "hovertemplate": "feature=energy<br>Genre=%{x}<br>Average Feature Value=%{y}<extra></extra>",
         "legendgroup": "energy",
         "marker": {
          "color": "#EF553B",
          "pattern": {
           "shape": ""
          }
         },
         "name": "energy",
         "offsetgroup": "energy",
         "orientation": "v",
         "showlegend": true,
         "textposition": "auto",
         "type": "bar",
         "x": [
          "['afroswing', 'london rap', 'rap']",
          "['australian pop', 'pop', 'uk pop']",
          "['basshall', 'francoton']",
          "['edm', 'german dance', 'pop dance', 'pop edm', 'tropical house']",
          "['latin pop', 'viral pop']",
          "['pop dance', 'tropical house', 'uk contemporary r&b', 'uk dance']",
          "['reggaeton flow']",
          "['scandipop', 'swedish pop', 'tropical house']",
          "['south african house']",
          "['south african pop']"
         ],
         "xaxis": "x",
         "y": {
          "bdata": "arx0kxgE4j9U46WbxCDYP23n+6nx0uU/iBbZzvdT5z/AyqFFtvPlPxoEVg4tsuk/nMQgsHJo5T9mZmZmZmbmP7bz/dR46d4/tvP91Hjp3j8=",
          "dtype": "f8"
         },
         "yaxis": "y"
        },
        {
         "alignmentgroup": "True",
         "hovertemplate": "feature=danceability<br>Genre=%{x}<br>Average Feature Value=%{y}<extra></extra>",
         "legendgroup": "danceability",
         "marker": {
          "color": "#00cc96",
          "pattern": {
           "shape": ""
          }
         },
         "name": "danceability",
         "offsetgroup": "danceability",
         "orientation": "v",
         "showlegend": true,
         "textposition": "auto",
         "type": "bar",
         "x": [
          "['afroswing', 'london rap', 'rap']",
          "['australian pop', 'pop', 'uk pop']",
          "['basshall', 'francoton']",
          "['edm', 'german dance', 'pop dance', 'pop edm', 'tropical house']",
          "['latin pop', 'viral pop']",
          "['pop dance', 'tropical house', 'uk contemporary r&b', 'uk dance']",
          "['reggaeton flow']",
          "['scandipop', 'swedish pop', 'tropical house']",
          "['south african house']",
          "['south african pop']"
         ],
         "xaxis": "x",
         "y": {
          "bdata": "g8DKoUW26z/dJAaBlUPjPxxaZDvfT+k/oBov3SQG5z/2KFyPwvXsP+BPjZduEuU/BFYOLbKd6z9t5/up8dLlPylcj8L1KOw/KVyPwvUo7D8=",
          "dtype": "f8"
         },
         "yaxis": "y"
        },
        {
         "alignmentgroup": "True",
         "hovertemplate": "feature=acousticness<br>Genre=%{x}<br>Average Feature Value=%{y}<extra></extra>",
         "legendgroup": "acousticness",
         "marker": {
          "color": "#ab63fa",
          "pattern": {
           "shape": ""
          }
         },
         "name": "acousticness",
         "offsetgroup": "acousticness",
         "orientation": "v",
         "showlegend": true,
         "textposition": "auto",
         "type": "bar",
         "x": [
          "['afroswing', 'london rap', 'rap']",
          "['australian pop', 'pop', 'uk pop']",
          "['basshall', 'francoton']",
          "['edm', 'german dance', 'pop dance', 'pop edm', 'tropical house']",
          "['latin pop', 'viral pop']",
          "['pop dance', 'tropical house', 'uk contemporary r&b', 'uk dance']",
          "['reggaeton flow']",
          "['scandipop', 'swedish pop', 'tropical house']",
          "['south african house']",
          "['south african pop']"
         ],
         "xaxis": "x",
         "y": {
          "bdata": "rkfhehSuxz8xCKwcWmTnP2ZmZmZmZsY/KcsQx7q4wT+ASL99HTi3P7qD2JlC57U/0SLb+X5qvD+WQ4ts5/vZP4ts5/up8ZI/i2zn+6nxkj8=",
          "dtype": "f8"
         },
         "yaxis": "y"
        }
       ],
       "layout": {
        "barmode": "group",
        "legend": {
         "title": {
          "text": "feature"
         },
         "tracegroupgap": 0
        },
        "template": {
         "data": {
          "bar": [
           {
            "error_x": {
             "color": "#2a3f5f"
            },
            "error_y": {
             "color": "#2a3f5f"
            },
            "marker": {
             "line": {
              "color": "#E5ECF6",
              "width": 0.5
             },
             "pattern": {
              "fillmode": "overlay",
              "size": 10,
              "solidity": 0.2
             }
            },
            "type": "bar"
           }
          ],
          "barpolar": [
           {
            "marker": {
             "line": {
              "color": "#E5ECF6",
              "width": 0.5
             },
             "pattern": {
              "fillmode": "overlay",
              "size": 10,
              "solidity": 0.2
             }
            },
            "type": "barpolar"
           }
          ],
          "carpet": [
           {
            "aaxis": {
             "endlinecolor": "#2a3f5f",
             "gridcolor": "white",
             "linecolor": "white",
             "minorgridcolor": "white",
             "startlinecolor": "#2a3f5f"
            },
            "baxis": {
             "endlinecolor": "#2a3f5f",
             "gridcolor": "white",
             "linecolor": "white",
             "minorgridcolor": "white",
             "startlinecolor": "#2a3f5f"
            },
            "type": "carpet"
           }
          ],
          "choropleth": [
           {
            "colorbar": {
             "outlinewidth": 0,
             "ticks": ""
            },
            "type": "choropleth"
           }
          ],
          "contour": [
           {
            "colorbar": {
             "outlinewidth": 0,
             "ticks": ""
            },
            "colorscale": [
             [
              0,
              "#0d0887"
             ],
             [
              0.1111111111111111,
              "#46039f"
             ],
             [
              0.2222222222222222,
              "#7201a8"
             ],
             [
              0.3333333333333333,
              "#9c179e"
             ],
             [
              0.4444444444444444,
              "#bd3786"
             ],
             [
              0.5555555555555556,
              "#d8576b"
             ],
             [
              0.6666666666666666,
              "#ed7953"
             ],
             [
              0.7777777777777778,
              "#fb9f3a"
             ],
             [
              0.8888888888888888,
              "#fdca26"
             ],
             [
              1,
              "#f0f921"
             ]
            ],
            "type": "contour"
           }
          ],
          "contourcarpet": [
           {
            "colorbar": {
             "outlinewidth": 0,
             "ticks": ""
            },
            "type": "contourcarpet"
           }
          ],
          "heatmap": [
           {
            "colorbar": {
             "outlinewidth": 0,
             "ticks": ""
            },
            "colorscale": [
             [
              0,
              "#0d0887"
             ],
             [
              0.1111111111111111,
              "#46039f"
             ],
             [
              0.2222222222222222,
              "#7201a8"
             ],
             [
              0.3333333333333333,
              "#9c179e"
             ],
             [
              0.4444444444444444,
              "#bd3786"
             ],
             [
              0.5555555555555556,
              "#d8576b"
             ],
             [
              0.6666666666666666,
              "#ed7953"
             ],
             [
              0.7777777777777778,
              "#fb9f3a"
             ],
             [
              0.8888888888888888,
              "#fdca26"
             ],
             [
              1,
              "#f0f921"
             ]
            ],
            "type": "heatmap"
           }
          ],
          "histogram": [
           {
            "marker": {
             "pattern": {
              "fillmode": "overlay",
              "size": 10,
              "solidity": 0.2
             }
            },
            "type": "histogram"
           }
          ],
          "histogram2d": [
           {
            "colorbar": {
             "outlinewidth": 0,
             "ticks": ""
            },
            "colorscale": [
             [
              0,
              "#0d0887"
             ],
             [
              0.1111111111111111,
              "#46039f"
             ],
             [
              0.2222222222222222,
              "#7201a8"
             ],
             [
              0.3333333333333333,
              "#9c179e"
             ],
             [
              0.4444444444444444,
              "#bd3786"
             ],
             [
              0.5555555555555556,
              "#d8576b"
             ],
             [
              0.6666666666666666,
              "#ed7953"
             ],
             [
              0.7777777777777778,
              "#fb9f3a"
             ],
             [
              0.8888888888888888,
              "#fdca26"
             ],
             [
              1,
              "#f0f921"
             ]
            ],
            "type": "histogram2d"
           }
          ],
          "histogram2dcontour": [
           {
            "colorbar": {
             "outlinewidth": 0,
             "ticks": ""
            },
            "colorscale": [
             [
              0,
              "#0d0887"
             ],
             [
              0.1111111111111111,
              "#46039f"
             ],
             [
              0.2222222222222222,
              "#7201a8"
             ],
             [
              0.3333333333333333,
              "#9c179e"
             ],
             [
              0.4444444444444444,
              "#bd3786"
             ],
             [
              0.5555555555555556,
              "#d8576b"
             ],
             [
              0.6666666666666666,
              "#ed7953"
             ],
             [
              0.7777777777777778,
              "#fb9f3a"
             ],
             [
              0.8888888888888888,
              "#fdca26"
             ],
             [
              1,
              "#f0f921"
             ]
            ],
            "type": "histogram2dcontour"
           }
          ],
          "mesh3d": [
           {
            "colorbar": {
             "outlinewidth": 0,
             "ticks": ""
            },
            "type": "mesh3d"
           }
          ],
          "parcoords": [
           {
            "line": {
             "colorbar": {
              "outlinewidth": 0,
              "ticks": ""
             }
            },
            "type": "parcoords"
           }
          ],
          "pie": [
           {
            "automargin": true,
            "type": "pie"
           }
          ],
          "scatter": [
           {
            "fillpattern": {
             "fillmode": "overlay",
             "size": 10,
             "solidity": 0.2
            },
            "type": "scatter"
           }
          ],
          "scatter3d": [
           {
            "line": {
             "colorbar": {
              "outlinewidth": 0,
              "ticks": ""
             }
            },
            "marker": {
             "colorbar": {
              "outlinewidth": 0,
              "ticks": ""
             }
            },
            "type": "scatter3d"
           }
          ],
          "scattercarpet": [
           {
            "marker": {
             "colorbar": {
              "outlinewidth": 0,
              "ticks": ""
             }
            },
            "type": "scattercarpet"
           }
          ],
          "scattergeo": [
           {
            "marker": {
             "colorbar": {
              "outlinewidth": 0,
              "ticks": ""
             }
            },
            "type": "scattergeo"
           }
          ],
          "scattergl": [
           {
            "marker": {
             "colorbar": {
              "outlinewidth": 0,
              "ticks": ""
             }
            },
            "type": "scattergl"
           }
          ],
          "scattermap": [
           {
            "marker": {
             "colorbar": {
              "outlinewidth": 0,
              "ticks": ""
             }
            },
            "type": "scattermap"
           }
          ],
          "scattermapbox": [
           {
            "marker": {
             "colorbar": {
              "outlinewidth": 0,
              "ticks": ""
             }
            },
            "type": "scattermapbox"
           }
          ],
          "scatterpolar": [
           {
            "marker": {
             "colorbar": {
              "outlinewidth": 0,
              "ticks": ""
             }
            },
            "type": "scatterpolar"
           }
          ],
          "scatterpolargl": [
           {
            "marker": {
             "colorbar": {
              "outlinewidth": 0,
              "ticks": ""
             }
            },
            "type": "scatterpolargl"
           }
          ],
          "scatterternary": [
           {
            "marker": {
             "colorbar": {
              "outlinewidth": 0,
              "ticks": ""
             }
            },
            "type": "scatterternary"
           }
          ],
          "surface": [
           {
            "colorbar": {
             "outlinewidth": 0,
             "ticks": ""
            },
            "colorscale": [
             [
              0,
              "#0d0887"
             ],
             [
              0.1111111111111111,
              "#46039f"
             ],
             [
              0.2222222222222222,
              "#7201a8"
             ],
             [
              0.3333333333333333,
              "#9c179e"
             ],
             [
              0.4444444444444444,
              "#bd3786"
             ],
             [
              0.5555555555555556,
              "#d8576b"
             ],
             [
              0.6666666666666666,
              "#ed7953"
             ],
             [
              0.7777777777777778,
              "#fb9f3a"
             ],
             [
              0.8888888888888888,
              "#fdca26"
             ],
             [
              1,
              "#f0f921"
             ]
            ],
            "type": "surface"
           }
          ],
          "table": [
           {
            "cells": {
             "fill": {
              "color": "#EBF0F8"
             },
             "line": {
              "color": "white"
             }
            },
            "header": {
             "fill": {
              "color": "#C8D4E3"
             },
             "line": {
              "color": "white"
             }
            },
            "type": "table"
           }
          ]
         },
         "layout": {
          "annotationdefaults": {
           "arrowcolor": "#2a3f5f",
           "arrowhead": 0,
           "arrowwidth": 1
          },
          "autotypenumbers": "strict",
          "coloraxis": {
           "colorbar": {
            "outlinewidth": 0,
            "ticks": ""
           }
          },
          "colorscale": {
           "diverging": [
            [
             0,
             "#8e0152"
            ],
            [
             0.1,
             "#c51b7d"
            ],
            [
             0.2,
             "#de77ae"
            ],
            [
             0.3,
             "#f1b6da"
            ],
            [
             0.4,
             "#fde0ef"
            ],
            [
             0.5,
             "#f7f7f7"
            ],
            [
             0.6,
             "#e6f5d0"
            ],
            [
             0.7,
             "#b8e186"
            ],
            [
             0.8,
             "#7fbc41"
            ],
            [
             0.9,
             "#4d9221"
            ],
            [
             1,
             "#276419"
            ]
           ],
           "sequential": [
            [
             0,
             "#0d0887"
            ],
            [
             0.1111111111111111,
             "#46039f"
            ],
            [
             0.2222222222222222,
             "#7201a8"
            ],
            [
             0.3333333333333333,
             "#9c179e"
            ],
            [
             0.4444444444444444,
             "#bd3786"
            ],
            [
             0.5555555555555556,
             "#d8576b"
            ],
            [
             0.6666666666666666,
             "#ed7953"
            ],
            [
             0.7777777777777778,
             "#fb9f3a"
            ],
            [
             0.8888888888888888,
             "#fdca26"
            ],
            [
             1,
             "#f0f921"
            ]
           ],
           "sequentialminus": [
            [
             0,
             "#0d0887"
            ],
            [
             0.1111111111111111,
             "#46039f"
            ],
            [
             0.2222222222222222,
             "#7201a8"
            ],
            [
             0.3333333333333333,
             "#9c179e"
            ],
            [
             0.4444444444444444,
             "#bd3786"
            ],
            [
             0.5555555555555556,
             "#d8576b"
            ],
            [
             0.6666666666666666,
             "#ed7953"
            ],
            [
             0.7777777777777778,
             "#fb9f3a"
            ],
            [
             0.8888888888888888,
             "#fdca26"
            ],
            [
             1,
             "#f0f921"
            ]
           ]
          },
          "colorway": [
           "#636efa",
           "#EF553B",
           "#00cc96",
           "#ab63fa",
           "#FFA15A",
           "#19d3f3",
           "#FF6692",
           "#B6E880",
           "#FF97FF",
           "#FECB52"
          ],
          "font": {
           "color": "#2a3f5f"
          },
          "geo": {
           "bgcolor": "white",
           "lakecolor": "white",
           "landcolor": "#E5ECF6",
           "showlakes": true,
           "showland": true,
           "subunitcolor": "white"
          },
          "hoverlabel": {
           "align": "left"
          },
          "hovermode": "closest",
          "mapbox": {
           "style": "light"
          },
          "paper_bgcolor": "white",
          "plot_bgcolor": "#E5ECF6",
          "polar": {
           "angularaxis": {
            "gridcolor": "white",
            "linecolor": "white",
            "ticks": ""
           },
           "bgcolor": "#E5ECF6",
           "radialaxis": {
            "gridcolor": "white",
            "linecolor": "white",
            "ticks": ""
           }
          },
          "scene": {
           "xaxis": {
            "backgroundcolor": "#E5ECF6",
            "gridcolor": "white",
            "gridwidth": 2,
            "linecolor": "white",
            "showbackground": true,
            "ticks": "",
            "zerolinecolor": "white"
           },
           "yaxis": {
            "backgroundcolor": "#E5ECF6",
            "gridcolor": "white",
            "gridwidth": 2,
            "linecolor": "white",
            "showbackground": true,
            "ticks": "",
            "zerolinecolor": "white"
           },
           "zaxis": {
            "backgroundcolor": "#E5ECF6",
            "gridcolor": "white",
            "gridwidth": 2,
            "linecolor": "white",
            "showbackground": true,
            "ticks": "",
            "zerolinecolor": "white"
           }
          },
          "shapedefaults": {
           "line": {
            "color": "#2a3f5f"
           }
          },
          "ternary": {
           "aaxis": {
            "gridcolor": "white",
            "linecolor": "white",
            "ticks": ""
           },
           "baxis": {
            "gridcolor": "white",
            "linecolor": "white",
            "ticks": ""
           },
           "bgcolor": "#E5ECF6",
           "caxis": {
            "gridcolor": "white",
            "linecolor": "white",
            "ticks": ""
           }
          },
          "title": {
           "x": 0.05
          },
          "xaxis": {
           "automargin": true,
           "gridcolor": "white",
           "linecolor": "white",
           "ticks": "",
           "title": {
            "standoff": 15
           },
           "zerolinecolor": "white",
           "zerolinewidth": 2
          },
          "yaxis": {
           "automargin": true,
           "gridcolor": "white",
           "linecolor": "white",
           "ticks": "",
           "title": {
            "standoff": 15
           },
           "zerolinecolor": "white",
           "zerolinewidth": 2
          }
         }
        },
        "title": {
         "text": "Trend of Various Sound Features Over Top 10 Genres"
        },
        "xaxis": {
         "anchor": "y",
         "domain": [
          0,
          1
         ],
         "tickangle": -45,
         "title": {
          "text": "Genre"
         }
        },
        "yaxis": {
         "anchor": "x",
         "domain": [
          0,
          1
         ],
         "title": {
          "text": "Average Feature Value"
         }
        }
       }
      }
     },
     "metadata": {},
     "output_type": "display_data"
    }
   ],
   "source": [
    "# Group by genres and compute mean popularity\n",
    "genre_popularity = genre_data.groupby('genres')['popularity'].mean().reset_index()\n",
    "#  Get top 10 genres\n",
    "top_genres = genre_popularity.sort_values(by='popularity', ascending=False).head(10)['genres']\n",
    "\n",
    "# Filter for top 10 genres and compute feature averages\n",
    "features = ['valence', 'energy', 'danceability', 'acousticness']\n",
    "top10_genres = genre_data[genre_data['genres'].isin(top_genres)].groupby('genres')[features].mean().reset_index()\n",
    "\n",
    "# Convert to long format for grouped bar chart\n",
    "top10_genres_long = top10_genres.melt(id_vars='genres', value_vars=features,\n",
    "                                       var_name='feature', value_name='value')\n",
    "\n",
    "# Plot grouped bar chart\n",
    "fig = px.bar(\n",
    "    top10_genres_long,\n",
    "    x='genres',\n",
    "    y='value',\n",
    "    color='feature',\n",
    "    barmode='group',\n",
    "    title='Trend of Various Sound Features Over Top 10 Genres',\n",
    "    labels={'value': 'Average Feature Value', 'genres': 'Genre'}\n",
    ")\n",
    "\n",
    "fig.update_layout(xaxis_tickangle=-45)\n",
    "fig.show()"
   ]
  },
  {
   "cell_type": "code",
   "execution_count": null,
   "id": "415445b2",
   "metadata": {},
   "outputs": [
    {
     "data": {
      "image/png": "[encoded data removed]",
      "text/plain": [
       "<Figure size 800x800 with 1 Axes>"
      ]
     },
     "metadata": {},
     "output_type": "display_data"
    }
   ],
   "source": [
    "# Flatten genre list if genres are in list format\n",
    "if genre_data['genres'].apply(lambda x: isinstance(x, list)).any():\n",
    "    genre_text = genre_data.explode('genres')['genres'].dropna().astype(str)\n",
    "else:\n",
    "    genre_text = genre_data['genres'].dropna().astype(str)\n",
    "\n",
    "# Combine all genres into one string\n",
    "comment_words = ' '.join(genre_text)\n",
    "\n",
    "# Define stopwords\n",
    "stopwords = set(STOPWORDS)\n",
    "\n",
    "# Generate the word cloud\n",
    "wordcloud = WordCloud(\n",
    "    width=800,\n",
    "    height=800,\n",
    "    background_color='white',\n",
    "    stopwords=stopwords,\n",
    "    max_words=40,\n",
    "    min_font_size=10\n",
    ").generate(comment_words)\n",
    "\n",
    "# Display the word cloud\n",
    "plt.figure(figsize=(8, 8), facecolor=None)\n",
    "plt.imshow(wordcloud, interpolation='bilinear')\n",
    "plt.axis('off')\n",
    "plt.tight_layout(pad=0)\n",
    "plt.title('Top Genres Word Cloud')\n",
    "plt.show()"
   ]
  },
  {
   "cell_type": "code",
   "execution_count": 12,
   "id": "b3ca8d99",
   "metadata": {},
   "outputs": [
    {
     "data": {
      "image/png": "[encoded data removed]",
      "text/plain": [
       "<Figure size 800x800 with 1 Axes>"
      ]
     },
     "metadata": {},
     "output_type": "display_data"
    }
   ],
   "source": [
    "# flatten artist names\n",
    "if artist_data['artists'].apply(lambda x: isinstance(x, list)).any():\n",
    "    artist_text = artist_data.explode('artists')['artists'].dropna().astype(str)\n",
    "else:  \n",
    "    artist_text = artist_data['artists'].dropna().astype(str)\n",
    "\n",
    "# Combine all artist names into one string\n",
    "comment_words = ' '.join(artist_text)\n",
    "\n",
    "# Define stopwords \n",
    "stopwords = set(STOPWORDS)\n",
    "\n",
    "# Generate the word cloud\n",
    "wordcloud = WordCloud(\n",
    "    width=800,\n",
    "    height=800,\n",
    "    background_color='white',\n",
    "    stopwords=stopwords,\n",
    "    min_word_length=3,\n",
    "    max_words=40,\n",
    "    min_font_size=10\n",
    ").generate(comment_words)\n",
    "\n",
    "# Display the word cloud\n",
    "plt.figure(figsize=(8, 8), facecolor=None)\n",
    "plt.imshow(wordcloud, interpolation='bilinear')\n",
    "plt.axis('off')\n",
    "plt.tight_layout(pad=0)\n",
    "plt.title('Top Artists Word Cloud',fontsize=15)\n",
    "plt.show()"
   ]
  },
  {
   "cell_type": "code",
   "execution_count": 16,
   "id": "4b5e9622",
   "metadata": {},
   "outputs": [
    {
     "name": "stdout",
     "output_type": "stream",
     "text": [
      "       count                                            artists\n",
      "28679      1                                \"Weird Al\" Yankovic\n",
      "0          1                                                조정현\n",
      "1          1                   \"Cats\" 1981 Original London Cast\n",
      "2          1                          \"Cats\" 1983 Broadway Cast\n",
      "3          1        \"Fiddler On The Roof” Motion Picture Chorus\n",
      "4          1     \"Fiddler On The Roof” Motion Picture Orchestra\n",
      "5          1  \"Joseph And The Amazing Technicolor Dreamcoat\"...\n",
      "6          1  \"Joseph And The Amazing Technicolor Dreamcoat\"...\n",
      "28663      1                                               鈴木 弘\n",
      "28662      1                                                陳秀男\n"
     ]
    }
   ],
   "source": [
    "# Count the number of songs per artist\n",
    "artist_song_count = artist_data['artists'].value_counts().reset_index()\n",
    "artist_song_count.columns = ['artists', 'count']\n",
    "# Get top 10 artists\n",
    "top_artists = artist_song_count.sort_values(by='count', ascending=False).head(10)\n",
    "print(top_artists[['count','artists']])"
   ]
  },
  {
   "cell_type": "code",
   "execution_count": 19,
   "id": "77255977",
   "metadata": {},
   "outputs": [
    {
     "name": "stdout",
     "output_type": "stream",
     "text": [
      "       popularity          artists\n",
      "20966        93.0      Ritt Momney\n",
      "14354        92.0        Lele Pons\n",
      "15070        90.0  Los Legendarios\n",
      "11764        89.0         Jerry Di\n",
      "7463         88.0           Emilee\n",
      "28263        88.0      salem ilese\n",
      "23687        88.0        Surf Mesa\n",
      "213          87.0              A7S\n",
      "14378        86.0     Lenny Santos\n",
      "16453        86.0        Master KG\n"
     ]
    }
   ],
   "source": [
    "# Group by artist and get the mean popularity score for each artist\n",
    "artist_popularity = artist_data.groupby('artists')['popularity'].mean().reset_index()\n",
    "\n",
    "# Sort by popularity and get top 10 artists\n",
    "top10_popular_artists = artist_popularity.sort_values('popularity', ascending=False).head(10)\n",
    "\n",
    "# Display the result\n",
    "print(top10_popular_artists[['popularity', 'artists']])"
   ]
  },
  {
   "cell_type": "markdown",
   "id": "ce7d0ec3",
   "metadata": {},
   "source": [
    "# conclusion about the data\n",
    "**Genre distribution**\n",
    "* The word cloud for genres reveals the most frequently listened genre of music are:Pop,rock and hiphop,while the others are less frequent but significant.\n",
    "**Artist Song Count**\n",
    "* By identifying the top 10 artists with the most songs produced, we can conclude which artists have contributed the largest number of tracks to the dataset.\n",
    "**Artist Popularity**\n",
    "* The top 10 artists with the highest popularity scores provide insights of the most influential and recognised artists,Comparing the popularity of these artists with their song counts allows for understanding how prolific artists relate to their popularity.\n",
    "**sound features**\n",
    "* The analysis of sound features such as tempo,energy, and danceability reveals the characteristics of the different genres and how they changeover time.\n",
    "**Data representation**\n",
    "* The word cloud for genres and the bar chart for artist song count provide a visual representation of the broad range of artists ad genres which suggests it captures the erlative samples of music across different styles and periods."
   ]
  },
  {
   "cell_type": "code",
   "execution_count": null,
   "id": "649b7250",
   "metadata": {},
   "outputs": [],
   "source": []
  }
 ],
 "metadata": {
  "kernelspec": {
   "display_name": "Python 3",
   "language": "python",
   "name": "python3"
  },
  "language_info": {
   "codemirror_mode": {
    "name": "ipython",
    "version": 3
   },
   "file_extension": ".py",
   "mimetype": "text/x-python",
   "name": "python",
   "nbconvert_exporter": "python",
   "pygments_lexer": "ipython3",
   "version": "3.13.2"
  }
 },
 "nbformat": 4,
 "nbformat_minor": 5
}
